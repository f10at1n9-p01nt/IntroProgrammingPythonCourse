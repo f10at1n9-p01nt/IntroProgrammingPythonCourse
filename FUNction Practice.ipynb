{
 "cells": [
  {
   "cell_type": "markdown",
   "metadata": {},
   "source": [
    "# Functions\n",
    "\n",
    "Below are some different coding challenges. Try to write a function that meets the desired goal.\n",
    "\n",
    "## Example"
   ]
  },
  {
   "cell_type": "code",
   "execution_count": null,
   "metadata": {},
   "outputs": [],
   "source": [
    "#Write a function that takes two numbers as arguments and returns the sum.\n",
    "\n",
    "def addition(a, b):\n",
    "    # Don't forget the docstring\n",
    "    '''Returns the sum of numbers a and b.'''\n",
    "    answer = a + b\n",
    "    return answer\n",
    "\n",
    "# Read the docstring, just for fun\n",
    "help(addition)\n",
    "\n",
    "# Test function by printing with differen values for a and b\n",
    "print(addition(1, 2))\n",
    "print(addition(-5, -12))\n",
    "\n",
    "# Also, check out the shorter function\n",
    "def short_addition(a, b):\n",
    "    '''Returns the sum of numbers a and b.'''\n",
    "    return a + b\n",
    "\n",
    "# Test this function with same values\n",
    "print(short_addition(1, 2))\n",
    "print(short_addition(-5, -12))"
   ]
  },
  {
   "cell_type": "markdown",
   "metadata": {},
   "source": [
    "## Maximum Value"
   ]
  },
  {
   "cell_type": "code",
   "execution_count": null,
   "metadata": {},
   "outputs": [],
   "source": [
    "# Write a function that takes three numbers and returns the one with a maximum value"
   ]
  },
  {
   "cell_type": "markdown",
   "metadata": {},
   "source": [
    "## Add Numbers in a List"
   ]
  },
  {
   "cell_type": "code",
   "execution_count": null,
   "metadata": {},
   "outputs": [],
   "source": [
    "# Write a function that takes in a list of numbers as the argument and returns the sum of all the numbers in the list."
   ]
  },
  {
   "cell_type": "markdown",
   "metadata": {},
   "source": [
    "## Multiply Numbers in a List"
   ]
  },
  {
   "cell_type": "code",
   "execution_count": null,
   "metadata": {},
   "outputs": [],
   "source": [
    "# Write a function that takes in a list of numbers as the argument and returns the product of all the numbers in the list."
   ]
  },
  {
   "cell_type": "markdown",
   "metadata": {},
   "source": [
    "## Reverse a String"
   ]
  },
  {
   "cell_type": "code",
   "execution_count": null,
   "metadata": {},
   "outputs": [],
   "source": [
    "# Write a function that takes in a string and returns the same string in reverse order."
   ]
  },
  {
   "cell_type": "markdown",
   "metadata": {},
   "source": [
    "## Factorial"
   ]
  },
  {
   "cell_type": "code",
   "execution_count": null,
   "metadata": {},
   "outputs": [],
   "source": [
    "# Write a functions that returns the factorial of a number (e.g. 4! = 4 * 3 * 2 * 1 = 24).\n",
    "# The function should only do this for positive integers, so print an error message \n",
    "# if the input is not an integer or is negative."
   ]
  },
  {
   "cell_type": "markdown",
   "metadata": {},
   "source": [
    "## Number is a Range"
   ]
  },
  {
   "cell_type": "code",
   "execution_count": null,
   "metadata": {},
   "outputs": [],
   "source": [
    "# Write a function that takes a range of numbers and checks if a given number is in the range."
   ]
  },
  {
   "cell_type": "markdown",
   "metadata": {},
   "source": [
    "## Upper and Lower Count"
   ]
  },
  {
   "cell_type": "code",
   "execution_count": null,
   "metadata": {},
   "outputs": [],
   "source": [
    "# Write a function that counts the number of uppercase and lowercase letters in a string.\n",
    "# Sample: 'I love Math'\n",
    "# Expected Output\n",
    "# Number of uppercase letters: 2\n",
    "# Number of lowercase letters: 7"
   ]
  },
  {
   "cell_type": "markdown",
   "metadata": {},
   "source": [
    "## Unique Values"
   ]
  },
  {
   "cell_type": "code",
   "execution_count": null,
   "metadata": {},
   "outputs": [],
   "source": [
    "# Write a function that takes a list and returns a new list with only the unique values.\n",
    "# Sample list: [1,2,3,3,3,3,4,5]\n",
    "# Output: [1,2,3,4,5]"
   ]
  },
  {
   "cell_type": "markdown",
   "metadata": {},
   "source": [
    "## Prime Number"
   ]
  },
  {
   "cell_type": "code",
   "execution_count": null,
   "metadata": {},
   "outputs": [],
   "source": [
    "# Write a function that tests whether a number is prime or not."
   ]
  },
  {
   "cell_type": "markdown",
   "metadata": {},
   "source": [
    "## Even Numbers"
   ]
  },
  {
   "cell_type": "code",
   "execution_count": null,
   "metadata": {},
   "outputs": [],
   "source": [
    "# Write a function that takes a list of numbers and returns another list with only the even numbers."
   ]
  },
  {
   "cell_type": "markdown",
   "metadata": {},
   "source": [
    "## Perfect Numbers"
   ]
  },
  {
   "cell_type": "code",
   "execution_count": null,
   "metadata": {},
   "outputs": [],
   "source": [
    "# Write a function that tells whether a given number is perfect or not.\n",
    "# A perfect number is a positive integer that is equal to the sum of its positive divisors, excluding itself.\n",
    "# For example, the factors of 6 are 1, 2, 3, and 6. If you exclude 6\n",
    "# 1 + 2 + 3 = 6\n",
    "# Six is the first perfect number."
   ]
  },
  {
   "cell_type": "markdown",
   "metadata": {},
   "source": [
    "## Palindrome"
   ]
  },
  {
   "cell_type": "code",
   "execution_count": null,
   "metadata": {},
   "outputs": [],
   "source": [
    "# Write a function that checks whether a string passed into the function is a palindrome or not. \n",
    "# Palindrome are words or phrases that are spelled the same forward and backward.\n",
    "# Examples: race car, mom, dad, madam, poop, nurses run"
   ]
  },
  {
   "cell_type": "markdown",
   "metadata": {},
   "source": [
    "## Pangram"
   ]
  },
  {
   "cell_type": "code",
   "execution_count": null,
   "metadata": {},
   "outputs": [],
   "source": [
    "# Write a function to check whether a string is a pangram or not.\n",
    "# A pangram is a word or sentence where every letter of the alphabet is used at least onece.\n",
    "# Example: 'The quick brown fox jumps over the lazy dog'"
   ]
  }
 ],
 "metadata": {
  "kernelspec": {
   "display_name": "Python 3",
   "language": "python",
   "name": "python3"
  },
  "language_info": {
   "codemirror_mode": {
    "name": "ipython",
    "version": 3
   },
   "file_extension": ".py",
   "mimetype": "text/x-python",
   "name": "python",
   "nbconvert_exporter": "python",
   "pygments_lexer": "ipython3",
   "version": "3.6.5"
  }
 },
 "nbformat": 4,
 "nbformat_minor": 2
}
