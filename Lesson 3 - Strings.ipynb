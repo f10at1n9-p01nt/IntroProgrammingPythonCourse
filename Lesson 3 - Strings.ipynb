{
 "cells": [
  {
   "cell_type": "markdown",
   "metadata": {},
   "source": [
    "# Introduction\n",
    "\n",
    "In addition to manipulating numbers, computers are often used to store and process text. In this section you'll be introduced to string data types and some operations we can do on strings.\n",
    "\n",
    "## Directions for Exercises\n",
    "\n",
    "Type each of the excercises in a separate cell of the Python notebook. Before you run the cell, predict what you think the output will be.\n",
    "\n",
    "After you have done all of the exercises, use Markdown to type a summary of what you learned in the next cell. Did you predict any incorrectly? Which ones? What did you learn? What questions do you still have?"
   ]
  },
  {
   "cell_type": "markdown",
   "metadata": {},
   "source": [
    "# Strings\n",
    "\n",
    "Text is represented in programs by using the string data type. A string is a sequence of characters. The characters could be letters, numbers or symbols. We indicate a string by surrounding it with quotation marks. Either single or double quotes is acceptable, you just need to use the same one on either end of the string.\n",
    "\n",
    "Try the following exercises. You can type all the lines of each exercise in one cell of Python code. Be sure to summarize what the exercises are teaching you about strings in a markdown cell.\n",
    "\n",
    "### Exercise 1\n",
    "```python\n",
    "str_1 = \"Hello\"'\n",
    "str_2 = 'world'\n",
    "str_3 = \",\"\n",
    "print(str_1, str_3, str_2)\n",
    "print(str_1 + str_3 + \" \" + str_2)\n",
    "```"
   ]
  },
  {
   "cell_type": "code",
   "execution_count": null,
   "metadata": {},
   "outputs": [],
   "source": []
  },
  {
   "cell_type": "markdown",
   "metadata": {},
   "source": [
    "### Exercise 2\n",
    "```python\n",
    "str_1 = \"This is how you \\n start a new line.\"\n",
    "str_2 = \"This is how to insert \\t a tab.\"\n",
    "print(str_1, str_2)\n",
    "```"
   ]
  },
  {
   "cell_type": "code",
   "execution_count": null,
   "metadata": {},
   "outputs": [],
   "source": []
  },
  {
   "cell_type": "markdown",
   "metadata": {},
   "source": [
    "### Exercise 3\n",
    "```python\n",
    "var_1 = 123\n",
    "var_2 = \"123\"\n",
    "type(var_1)\n",
    "type(var_2)\n",
    "```"
   ]
  },
  {
   "cell_type": "code",
   "execution_count": null,
   "metadata": {},
   "outputs": [],
   "source": []
  },
  {
   "cell_type": "markdown",
   "metadata": {},
   "source": [
    "# Operations on Strings\n",
    "\n",
    "There are several operations we can do with strings. Here we will look at:\n",
    "* the length function\n",
    "* indexing \n",
    "* slicing strings\n",
    "\n",
    "Try the following exercises and then summarize what you observe. The program below should produce an error. Fix one of the lines to make it run correctly.\n",
    "\n",
    "### Exercise 4\n",
    "```python\n",
    "print(len('Hello World'))\n",
    "print(len(' Hello World '))\n",
    "sentence = \"How long is this sentence?\"\n",
    "print(\"This sentence is \" + len(sentence) + \" characters long.\")\n",
    "```"
   ]
  },
  {
   "cell_type": "code",
   "execution_count": null,
   "metadata": {},
   "outputs": [],
   "source": []
  },
  {
   "cell_type": "markdown",
   "metadata": {},
   "source": [
    "### Exercise 5\n",
    "```python\n",
    "s = \"I love Python.\"\n",
    "print(s[0])\n",
    "print(s[1])\n",
    "print(s[2])\n",
    "print(s[4])\n",
    "print(s[-1])\n",
    "print(s[-3])\n",
    "```"
   ]
  },
  {
   "cell_type": "code",
   "execution_count": null,
   "metadata": {},
   "outputs": [],
   "source": []
  },
  {
   "cell_type": "markdown",
   "metadata": {},
   "source": [
    "### Exercise 6\n",
    "```python\n",
    "s = \"I love Python.\"\n",
    "print(s[2:5])\n",
    "print(s[2: ])\n",
    "print(s[ :6])\n",
    "print(s[-7:-1])\n",
    "```"
   ]
  },
  {
   "cell_type": "code",
   "execution_count": null,
   "metadata": {},
   "outputs": [],
   "source": []
  },
  {
   "cell_type": "markdown",
   "metadata": {},
   "source": [
    "### Quiz Yourself\n",
    "\n",
    "Use what you have discovered in the previous exercises and try the following problems by:\n",
    "\t1st. Predicting what Python will output.\n",
    "\t2nd. Typing the expression on a new line of code. (Don't type all of these in one cell.)\n",
    "\t3rd. Checking to see if your prediction was correct.\n",
    "    \n",
    "Make note of how you did in a summary cell after these questions. How many did you predict correctly? What did you learn?\n",
    "\n",
    "Given the following:\n",
    "```python\n",
    "str1 = 'hello'\n",
    "str2 = ','\n",
    "str3 = 'world'\n",
    "```\n",
    "\n",
    "\t1. \"a\" + \"bc\"\n",
    "\t2. 3 * \"bc\"\n",
    "\t3. \"3\" * \"bc\"\n",
    "\t4. str1[1]\n",
    "\t5. str1[-1]\n",
    "\t6. len(str1)\n",
    "\t7. str 1 + str2 + str3\n",
    "\t8. 'hello' == str1\n",
    "\t9. 'Hello' == str1\n",
    "\t10. 'a' in str3\n",
    "\t11. str4 = str1 + str3\n",
    "\t12. 'low' in str4\n",
    "\t13. str3[1:3]\n",
    "\t14. str3[ :-1]\n",
    "\t15. str4[1:9]\n",
    "\t16. str4[1:9:2]\n",
    "    17. str4[ : :-1]"
   ]
  },
  {
   "cell_type": "code",
   "execution_count": null,
   "metadata": {},
   "outputs": [],
   "source": []
  },
  {
   "cell_type": "markdown",
   "metadata": {},
   "source": [
    "# Research Like a Programmer\n",
    "\n",
    "## Problem 1\n",
    "\n",
    "There are other methods that can be preformed on strings. Find at least 2 more. What is your favorite?"
   ]
  },
  {
   "cell_type": "code",
   "execution_count": null,
   "metadata": {},
   "outputs": [],
   "source": []
  },
  {
   "cell_type": "markdown",
   "metadata": {},
   "source": [
    "## Problem 2\n",
    "\n",
    "If you have the string \n",
    "```python\n",
    "s = 'ajdklafmc'\n",
    "```\n",
    "Can you get Python to tell you what position the letter 'd' is in?"
   ]
  },
  {
   "cell_type": "code",
   "execution_count": null,
   "metadata": {},
   "outputs": [],
   "source": []
  }
 ],
 "metadata": {
  "kernelspec": {
   "display_name": "Python 3",
   "language": "python",
   "name": "python3"
  },
  "language_info": {
   "codemirror_mode": {
    "name": "ipython",
    "version": 3
   },
   "file_extension": ".py",
   "mimetype": "text/x-python",
   "name": "python",
   "nbconvert_exporter": "python",
   "pygments_lexer": "ipython3",
   "version": "3.6.5"
  }
 },
 "nbformat": 4,
 "nbformat_minor": 2
}
