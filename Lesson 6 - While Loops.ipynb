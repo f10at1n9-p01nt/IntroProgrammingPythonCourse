{
 "cells": [
  {
   "attachments": {},
   "cell_type": "markdown",
   "metadata": {},
   "source": [
    "# Introduction\n",
    "\n",
    "In the last lesson you explored how for loops at counting loops that iterate over a certain sequence. The sequence can be a string of characters, a set of numbers and other things we'll learn about in this course. While loops are another kind of loop. Unlike for loops that have an ending, while loops are indefinite loops that continue on until a certain condition is met.\n",
    "\n",
    "## While Loop\n",
    "\n",
    "The basic for with *while* loops is:\n",
    "\n",
    "```python\n",
    "while <condition>:\n",
    "    <body>\n",
    "```\n",
    "\n",
    "For loops are great when you know how many times you want to run the loop, but if you want to run a loop an unspecified number of times until something happens, while loops are the way to go. Once again, it is easier to understand while loops by experiencing them. Try the following exercises.\n",
    "\n",
    "## Directions for Exercises\n",
    "\n",
    "Type each of the excercises in the Python notebook. Before you run the cell, take a look at the code and try to figure out what it might do.\n",
    "\n",
    "After you have done all of the exercises, use Markdown to type a summary of what you learned in the next cell. What did you learn? What questions do you still have?"
   ]
  },
  {
   "cell_type": "markdown",
   "metadata": {},
   "source": [
    "### Exercise 1\n",
    "\n",
    "```python\n",
    "i = 0\n",
    "while i <= 10:\n",
    "    print(i)\n",
    "    i += 1\n",
    "```\n",
    "\n",
    "#### Note\n",
    "\n",
    "Remember, the line\n",
    "```python\n",
    "i += 1\n",
    "```\n",
    "is the same as\n",
    "```python\n",
    "i = i + 1\n",
    "```"
   ]
  },
  {
   "cell_type": "code",
   "execution_count": null,
   "metadata": {},
   "outputs": [],
   "source": []
  },
  {
   "cell_type": "markdown",
   "metadata": {},
   "source": [
    "### Exercise 2\n",
    "\n",
    "What would happen if you get rid of the indent for the last line of the program for exercise 1, so it looks like this? Try to predict what will happen before you run it. Why does this happen?\n",
    "\n",
    "```python\n",
    "i = 0\n",
    "while i <= 10:\n",
    "    print(i)\n",
    "i += 1\n",
    "```"
   ]
  },
  {
   "cell_type": "code",
   "execution_count": null,
   "metadata": {},
   "outputs": [],
   "source": []
  },
  {
   "cell_type": "markdown",
   "metadata": {},
   "source": [
    "### Code Challenge\n",
    "\n",
    "Write a program that has the exact same output as exercise 1, but uses a \"for\" loop."
   ]
  },
  {
   "cell_type": "code",
   "execution_count": null,
   "metadata": {},
   "outputs": [],
   "source": []
  },
  {
   "cell_type": "markdown",
   "metadata": {},
   "source": [
    "### Exercise 3\n",
    "\n",
    "```python\n",
    "print(\"Type 3 to continue, anything else to quit.\")\n",
    "user_input = input()\n",
    "while user_input == '3':\n",
    "    print(\"Thank you for typing 3.\")\n",
    "    print(\"Type 3 to continue, ,anything else to quit.\")\n",
    "    user_input = input()\n",
    "print(\"You didn't type 3, so the program has ended.\")\n",
    "```"
   ]
  },
  {
   "cell_type": "code",
   "execution_count": null,
   "metadata": {},
   "outputs": [],
   "source": []
  },
  {
   "attachments": {},
   "cell_type": "markdown",
   "metadata": {},
   "source": [
    "## Continue and Break Statements\n",
    "\n",
    "In the previous lesson you saw the break statement used in example 5. Did you stop to figure out what that statement did? The break and continue statement are often a [discussion among programmers and many avoid them](https://softwareengineering.stackexchange.com/questions/58237/are-break-and-continue-bad-programming-practices), but it's worth taking a look at what they do. Here we'll briefly look at how the continue and break statements can be used in loops with two examples.\n",
    "\n",
    "### Exercise 4\n",
    "```python\n",
    "for j in range(1,6):\n",
    "    print()\n",
    "    print('j =',j)\n",
    "    print('Hello, how')\n",
    "    if j == 3:\n",
    "        break\n",
    "    print(' are you today?')\n",
    "```\n",
    "    "
   ]
  },
  {
   "cell_type": "code",
   "execution_count": null,
   "metadata": {},
   "outputs": [],
   "source": []
  },
  {
   "cell_type": "markdown",
   "metadata": {},
   "source": [
    "### Exercise 5\n",
    "\n",
    "Replace \"continue\" in exercise 4 with \"break\". Then, write a quick summary about what the difference is between break and continue."
   ]
  },
  {
   "cell_type": "code",
   "execution_count": null,
   "metadata": {},
   "outputs": [],
   "source": []
  },
  {
   "cell_type": "markdown",
   "metadata": {},
   "source": [
    "### Exercise 6\n",
    "```python\n",
    "x = 0\n",
    "while x < 10:\n",
    "    print(\" x is currently \",x)\n",
    "    x += 1\n",
    "else:\n",
    "    print(\"All done.\")\n",
    "```"
   ]
  },
  {
   "cell_type": "code",
   "execution_count": null,
   "metadata": {},
   "outputs": [],
   "source": []
  }
 ],
 "metadata": {
  "kernelspec": {
   "display_name": "Python 3",
   "language": "python",
   "name": "python3"
  },
  "language_info": {
   "codemirror_mode": {
    "name": "ipython",
    "version": 3
   },
   "file_extension": ".py",
   "mimetype": "text/x-python",
   "name": "python",
   "nbconvert_exporter": "python",
   "pygments_lexer": "ipython3",
   "version": "3.6.5"
  }
 },
 "nbformat": 4,
 "nbformat_minor": 2
}
