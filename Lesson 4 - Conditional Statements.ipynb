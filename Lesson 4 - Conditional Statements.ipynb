{
 "cells": [
  {
   "attachments": {},
   "cell_type": "markdown",
   "metadata": {},
   "source": [
    "# Introduction\n",
    "\n",
    "In order to make a programs a lot more interesting we would like the computer to be able to make some decisions. Basically, we want the computer to do a test to see if something is true or not. If the condition is true, we want the computer to do something and if the condition is false we want the computer to do something else.\n",
    "\n",
    "## If...else\n",
    "\n",
    "The basic form for decisions is the following\n",
    "    \n",
    "```python\n",
    "if <condition>:\n",
    "    <body if condition is True>\n",
    "else:\n",
    "    <body if condition is False>\n",
    "``` \n",
    "\n",
    "#### It is important you notice that\n",
    "* There is a colon after the if and else statements\n",
    "* The code that is run after the if and else statements is indented.\n",
    "\n",
    "## Directions for Exercises\n",
    "\n",
    "Type each of the excercises in the Python notebook. Before you run the cell, predict what you think the output will be.\n",
    "\n",
    "After you have done all of the exercises, use Markdown to type a summary of what you learned in the next cell. Did you predict any incorrectly? Which ones? What did you learn? What questions do you still have?"
   ]
  },
  {
   "cell_type": "markdown",
   "metadata": {},
   "source": [
    "### Exercise 1\n",
    "```python\n",
    "random_number = random.randint(1,10)\n",
    "print(\"I am thinking of a number from 1 to 10.\")\n",
    "guess = int(input(\"Can you guess what it is?\\n\"))\n",
    "if guess == random_number:\n",
    "\tprint(\"You guessed it!\")\n",
    "else:\n",
    "print(\"Sorry. The number was \" + str(random_number))\n",
    "```"
   ]
  },
  {
   "cell_type": "code",
   "execution_count": null,
   "metadata": {},
   "outputs": [],
   "source": []
  },
  {
   "cell_type": "markdown",
   "metadata": {},
   "source": [
    "## Relational Operators\n",
    "\n",
    "Python has 6 relational operators, showing below, that you can use when testing conditions in your program.\n",
    "\n",
    "| Symbol | Meaning                     |\n",
    "|--------|-----------------------------|\n",
    "| <      | is less than                |\n",
    "| <=     | is less than or equal to    |\n",
    "| ==     | is equal to                 |\n",
    "| >=     | is greater than or equal to |\n",
    "| >      | is greater than             |\n",
    "| !=     | is not equal to             |"
   ]
  },
  {
   "cell_type": "markdown",
   "metadata": {},
   "source": [
    "## If...elif...else\n",
    "\n",
    "In Python you can ask the program to make multiple decisions at any given point."
   ]
  },
  {
   "attachments": {},
   "cell_type": "markdown",
   "metadata": {},
   "source": [
    "### Exercise 2\n",
    "```python\n",
    "import random\n",
    "\n",
    "random_number = random.randint(1,10)\n",
    "print(\"I am thinking of a number from 1 to 10.\")\n",
    "guess = int(input(\"Can you guess what it is?\\n\"))\n",
    "if guess == random_number:\n",
    "\tprint(\"You guessed it!\")\n",
    "else:\n",
    "\tif abs(guess - random_number) <= 2:\n",
    "\t\tprint(\"You were close!\")\n",
    "\telse:\n",
    "\t\tprint(\"You are way off.\")\n",
    "print(\"The number was \" + str(random_number))\n",
    "```\n",
    "\n",
    "*Notice in the above program that we nested a decision within a decision. In Python there is a nicer way to do this that keeps the code looking cleaner. Exercise 3 illustrates this.*"
   ]
  },
  {
   "cell_type": "code",
   "execution_count": null,
   "metadata": {},
   "outputs": [],
   "source": []
  },
  {
   "attachments": {},
   "cell_type": "markdown",
   "metadata": {},
   "source": [
    "### Exercise 3\n",
    "```python\n",
    "import random\n",
    "\n",
    "random_number = random.randint(1,10)\n",
    "print(\"I am thinking of a number from 1 to 10.\")\n",
    "guess = int(input(\"Can you guess what it is?\\n\"))\n",
    "if guess == random_number:\n",
    "\tprint(\"You guessed it!\")\n",
    "elif abs(guess - random_number) <= 2:\n",
    "\tprint(\"You were close!\")\n",
    "else:\n",
    "\tprint(\"You are way off.\")\n",
    "print(\"The number was \" + str(random_number))\n",
    "```\n",
    "\n",
    "*In the above program I wanted to check for the following conditions:*\n",
    "* *Did the user guess the number correctly and, if not*\n",
    "* *Was the user's guess less than 3 numbers away*\n",
    "\n",
    "*In order to accomplish this I used the if, elif (short for else, if), else clauses.*"
   ]
  },
  {
   "cell_type": "code",
   "execution_count": null,
   "metadata": {},
   "outputs": [],
   "source": []
  },
  {
   "attachments": {},
   "cell_type": "markdown",
   "metadata": {},
   "source": [
    "## Using \"and\", \"or\" or \"not\"\n",
    "\n",
    "When testing several conditions you can use:\n",
    "* \"and\" to make sure several things are true at the same time\n",
    "* \"or\" to make at least one thing is true\n",
    "\"not\" to see if something is not true."
   ]
  },
  {
   "attachments": {},
   "cell_type": "markdown",
   "metadata": {},
   "source": [
    "### Exercise 4\n",
    "```python\n",
    "first_number = int(input(\"Type a number. \"))\n",
    "second_number = int(input(\"Type another number. \"))\n",
    "if first_number % 2 == 0 and second_number % 2 == 0:\n",
    "\tprint(\"Both numbers are even.\")\n",
    "elif first_number % 2 == 0 or second_number % 2 == 0:\n",
    "\tprint(\"One of your numbers is even.\")\n",
    "else:\n",
    "    print(\"Both of your numbers are odd.\")\n",
    "```"
   ]
  },
  {
   "cell_type": "code",
   "execution_count": null,
   "metadata": {},
   "outputs": [],
   "source": []
  }
 ],
 "metadata": {
  "kernelspec": {
   "display_name": "Python 3",
   "language": "python",
   "name": "python3"
  },
  "language_info": {
   "codemirror_mode": {
    "name": "ipython",
    "version": 3
   },
   "file_extension": ".py",
   "mimetype": "text/x-python",
   "name": "python",
   "nbconvert_exporter": "python",
   "pygments_lexer": "ipython3",
   "version": "3.6.5"
  }
 },
 "nbformat": 4,
 "nbformat_minor": 2
}
