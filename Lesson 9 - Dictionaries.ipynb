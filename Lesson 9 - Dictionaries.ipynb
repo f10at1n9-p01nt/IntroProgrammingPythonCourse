{
 "cells": [
  {
   "attachments": {},
   "cell_type": "markdown",
   "metadata": {},
   "source": [
    "# Introduction\n",
    "\n",
    "As you saw with lists, Python can store data for you that you can retrieve when needed. Some times in programming you might want to organize your collection of things so that you associate a value with some other value. Think of a real life dictionary where a word is associated with its definition or a telephone directory where a name is linked to a number. Python dictionaries allow us to build these kind of associations.\n",
    "\n",
    "## Key-Value Pairs\n",
    "\n",
    "A dictionary is a collection of key-value pairs. Using the example of a list of phone numbers, the key might be a person's name and the value would be the number associated with them. The key is the thing you use to look up information and the value is the information you desire.\n",
    "\n",
    "The format for dictionaries is\n",
    "\n",
    "```python\n",
    "dictionary_name = {key1: value1, key2: value2, ... }\n",
    "```\n",
    "\n",
    "## Directions for Exercises\n",
    "\n",
    "Type each of the excercises in the Python notebook. Before you run the cell, predict what you think the output will be.\n",
    "\n",
    "After you have done all of the exercises, use Markdown to type a summary of what you learned in the next cell. Did you predict any incorrectly? Which ones? What did you learn? What questions do you still have?"
   ]
  },
  {
   "attachments": {},
   "cell_type": "markdown",
   "metadata": {},
   "source": [
    "### Exercise 1\n",
    "```python\n",
    "birthdays = { }\n",
    "birthdays[\"Yaiko\"] = \"June 12\"\n",
    "print(birthdays)\n",
    "```"
   ]
  },
  {
   "cell_type": "code",
   "execution_count": null,
   "metadata": {},
   "outputs": [],
   "source": []
  },
  {
   "attachments": {},
   "cell_type": "markdown",
   "metadata": {},
   "source": [
    "### Exercise 2\n",
    "```python\n",
    "birthdays = {\"Yaiko\": \"June 12\", \"George Washington\": \"January 21\", \"Jesus\": \"December 25\"}\n",
    "print(birthdays[\"Jesus\"])\n",
    "birthdays[\"Florence Foster Jenkins\"] = \"July 19\"\n",
    "print(birthdays)\n",
    "```"
   ]
  },
  {
   "cell_type": "code",
   "execution_count": null,
   "metadata": {},
   "outputs": [],
   "source": []
  },
  {
   "attachments": {},
   "cell_type": "markdown",
   "metadata": {},
   "source": [
    "# Comparing and Contrasting Lists and Dictionaries\n",
    "\n",
    "### Similarities\n",
    "* Both lists and dictionaries can hold any type (even other lists and dictionaries), so you can have collections of numbers, strings, objects and other collections.\n",
    "* Both lists and dictionaries give you a way to find things in the collection\n",
    "\n",
    "### Differences\n",
    "* Lists are ordered. If you put things in a list in a certain order then they stay that way. Dictionaries are unordered. If you add something to a dictionary it might not display in the order you expect. Example 2 may have illustrated this.\n",
    "* Items in a list are accessed by their index. Items in a dictionary are accessed by their key.\n",
    "    * Dictionary keys must be immutable objects like booleans, integers, floats, strings and tuples, not dictionaries or lists. Values can be any data type."
   ]
  },
  {
   "attachments": {},
   "cell_type": "markdown",
   "metadata": {},
   "source": [
    "### Exercise 3\n",
    "```python\n",
    "birthdays = {\"Yaiko\": \"June 12\", \"George Washington\": \"January 21\", \"Jesus\": \"December 25\"}\n",
    "print(birthdays.keys())\n",
    "print(birthdays.values())\n",
    "\n",
    "#Sorts the dictionary by key\n",
    "for key in sorted(birthdays.keys()):\n",
    "print(key, birthdays[key])\n",
    "```"
   ]
  },
  {
   "cell_type": "code",
   "execution_count": null,
   "metadata": {},
   "outputs": [],
   "source": []
  },
  {
   "attachments": {},
   "cell_type": "markdown",
   "metadata": {},
   "source": [
    "### Exercise 4\n",
    "```python\n",
    "print()\n",
    "birthdays = {\"Yaiko\": \"June 12\", \"George Washington\": \"January 21\", \"Jesus\": \"December 25\"}\n",
    "#Sorts the dictionary by value\n",
    "for value in sorted(birthdays.values()):\n",
    "\tfor key in birthdays.keys():\n",
    "\t\tif birthdays[key] == value:\n",
    "print(key, birthdays[key])\n",
    "```"
   ]
  },
  {
   "cell_type": "code",
   "execution_count": null,
   "metadata": {},
   "outputs": [],
   "source": []
  },
  {
   "attachments": {},
   "cell_type": "markdown",
   "metadata": {},
   "source": [
    "### Exercise 5\n",
    "\n",
    "```python\n",
    "birthdays = {\"Yaiko\": \"June 12\", \"George Washington\": \"January 21\", \"Jesus\": \"December 25\"}\n",
    "for k, v in birthdays.items():\n",
    "\tprint(k)\n",
    "    print(v)\n",
    "```"
   ]
  },
  {
   "cell_type": "code",
   "execution_count": null,
   "metadata": {},
   "outputs": [],
   "source": []
  },
  {
   "attachments": {},
   "cell_type": "markdown",
   "metadata": {},
   "source": [
    "### Exercise 6\n",
    "\n",
    "```python \n",
    "birthdays = {\"Yaiko\": \"June 12\", \"George Washington\": \"January 21\", \"Jesus\": \"December 25\"}\n",
    "del birthdays[\"Yaiko\"]\n",
    "print(birthdays)\n",
    "print()\n",
    "print(\"Jesus\" in birthdays)\n",
    "print(\"Kevin\" in birthdays)\n",
    "birthdays.clear()\n",
    "print(birthdays)\n",
    "```"
   ]
  },
  {
   "cell_type": "code",
   "execution_count": null,
   "metadata": {},
   "outputs": [],
   "source": []
  }
 ],
 "metadata": {
  "kernelspec": {
   "display_name": "Python 3",
   "language": "python",
   "name": "python3"
  },
  "language_info": {
   "codemirror_mode": {
    "name": "ipython",
    "version": 3
   },
   "file_extension": ".py",
   "mimetype": "text/x-python",
   "name": "python",
   "nbconvert_exporter": "python",
   "pygments_lexer": "ipython3",
   "version": "3.6.5"
  }
 },
 "nbformat": 4,
 "nbformat_minor": 2
}
