{
 "cells": [
  {
   "attachments": {},
   "cell_type": "markdown",
   "metadata": {},
   "source": [
    "# Introduction\n",
    "\n",
    "While we already know how to print statements and even concatenate statements together for printing.\n",
    "e.g.,\n",
    "\n",
    "```python\n",
    "a = 18\n",
    "print(\"I am \" + str(a) + \" years old.\")\n",
    "```\n",
    "\n",
    "In this lesson we'll learn other ways to print things in Python. As usual, the best way to understand the code is to type it in your own script, run it, and figure out what it is doing. Try the examples that follow.\n",
    "\n",
    "\n",
    "## Directions for Exercises\n",
    "\n",
    "Type each of the excercises in the Python notebook. Since this lesson is on different ways to print, don't worry about writing a summary or predicting what each exercise does. Instead, make sure you understand the syntax and try to incorporate this printing in your problem sets!"
   ]
  },
  {
   "attachments": {},
   "cell_type": "markdown",
   "metadata": {},
   "source": [
    "## Strings\n",
    "\n",
    "### Exercise 1\n",
    "```python\n",
    "first = \"Andrew Miller\"\n",
    "print(\"The greatest relief pitcher is %s\" %(first))\n",
    "```"
   ]
  },
  {
   "cell_type": "code",
   "execution_count": null,
   "metadata": {},
   "outputs": [],
   "source": []
  },
  {
   "attachments": {},
   "cell_type": "markdown",
   "metadata": {},
   "source": [
    "### Exercise 2\n",
    "```python\n",
    "first = \"Andrew Miller\"\n",
    "next = \"Cody Allen\"\n",
    "print(\"The greatest relief pitchers are %s and %s\" %(first, next))\n",
    "```"
   ]
  },
  {
   "cell_type": "code",
   "execution_count": null,
   "metadata": {},
   "outputs": [],
   "source": []
  },
  {
   "attachments": {},
   "cell_type": "markdown",
   "metadata": {},
   "source": [
    "## Floating Point Numbers\n",
    "\n",
    "### Exercise 3\n",
    "```python\n",
    "number = 12.56637\n",
    "print(\"Four pi = %1.2f\" %(number))\n",
    "print(\"Four pi = %1.0f\" %(number))\n",
    "print(\"Four pi = %1.2f and pi = %1.5f\" %(number, 3.14))\n",
    "print(\"My favorite number is %20f\" %(14))\n",
    "```"
   ]
  },
  {
   "cell_type": "code",
   "execution_count": null,
   "metadata": {},
   "outputs": [],
   "source": []
  },
  {
   "attachments": {},
   "cell_type": "markdown",
   "metadata": {},
   "source": [
    "## Conversion Format Methods\n",
    "\n",
    "### Exercise 4\n",
    "```python\n",
    "print(\"My favorite number is %s\" %(14))\n",
    "```"
   ]
  },
  {
   "cell_type": "code",
   "execution_count": null,
   "metadata": {},
   "outputs": [],
   "source": []
  },
  {
   "attachments": {},
   "cell_type": "markdown",
   "metadata": {},
   "source": [
    "### Exercise 5\n",
    "\n",
    "```python\n",
    "print(\"First: %s   Second: %s   Third: %s\" %('math', 8, 'shrubbery'))\n",
    "```"
   ]
  },
  {
   "cell_type": "code",
   "execution_count": null,
   "metadata": {},
   "outputs": [],
   "source": []
  },
  {
   "attachments": {},
   "cell_type": "markdown",
   "metadata": {},
   "source": [
    "### Exercise 6\n",
    "\n",
    "```python \n",
    "print(\"First: {x}   Second: {y}   Third: {x}\".format(x = 'Python', y = 'Coconut'))\n",
    "```"
   ]
  },
  {
   "cell_type": "code",
   "execution_count": null,
   "metadata": {},
   "outputs": [],
   "source": []
  },
  {
   "attachments": {},
   "cell_type": "markdown",
   "metadata": {},
   "source": [
    "The above example show the .format method on strings. This is a nice way to print items when you want to print the same thing more than once and you want to mix up the order.\n",
    "\n",
    "## Learn More\n",
    "\n",
    "If you would like to check out more things you can do to with print formatting, [check out this link](https://pyformat.info/)."
   ]
  },
  {
   "cell_type": "code",
   "execution_count": null,
   "metadata": {},
   "outputs": [],
   "source": []
  }
 ],
 "metadata": {
  "kernelspec": {
   "display_name": "Python 3",
   "language": "python",
   "name": "python3"
  },
  "language_info": {
   "codemirror_mode": {
    "name": "ipython",
    "version": 3
   },
   "file_extension": ".py",
   "mimetype": "text/x-python",
   "name": "python",
   "nbconvert_exporter": "python",
   "pygments_lexer": "ipython3",
   "version": "3.6.5"
  }
 },
 "nbformat": 4,
 "nbformat_minor": 2
}
