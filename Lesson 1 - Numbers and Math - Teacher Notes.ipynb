{
 "cells": [
  {
   "cell_type": "markdown",
   "metadata": {},
   "source": [
    "# Introduction\n",
    "\n",
    "Python is good at math. While it's not exciting to simply use programming in Python as a traditional calculator, it's helpful to know what mathematical operations are available for us to work with. According to Warren and Carter Sande, \"Almost any interesting program is going to use numbers and math in some way.\"\n",
    "\n",
    "## Directions for Exercises\n",
    "\n",
    "Type each of the exercises in a separate cell of the Python notebook. Before you run the cell, predict what you think the output will be.\n",
    "\n",
    "After you have done all of the exercises, use Markdown to type a summary of what you learned in the next cell. Did you predict any incorrectly? Which ones? What did you learn? What questions do you still have?\n"
   ]
  },
  {
   "cell_type": "markdown",
   "metadata": {},
   "source": [
    "# The Four Basic Operations\n",
    "\n",
    "## Excercises\n",
    "\n",
    "\t1. 7 + 9 \n",
    "\t2. 12 - 5 \n",
    "\t3. 4 * 8 \n",
    "\t4. 10 / 5 \n",
    "\t5. 8(14 - 11) \n",
    "\t6. (1 + 2) * 3 * 4 \n",
    "\t7. 24 / 5 \n",
    "\t8. 24//5 \n",
    "    9. 7 - 4 * 3"
   ]
  },
  {
   "cell_type": "markdown",
   "metadata": {},
   "source": [
    "## Teacher Notes\n",
    "\n",
    "* Python can do math like a calculator.\n",
    "* Python knows the order of operations (exercise 6).\n",
    "* You must explicitly tell Python the operations you want to perform (exercise 5).\n",
    "* // is division that rounds down (floor division)"
   ]
  },
  {
   "cell_type": "markdown",
   "metadata": {},
   "source": [
    "### Python 2 Note\n",
    "\n",
    "If you ever use Python 2, division is different. Can you find out what the output of exercise 7 would be in Python 2?"
   ]
  },
  {
   "cell_type": "markdown",
   "metadata": {},
   "source": [
    "# Integers and Floats\n",
    "\n",
    "All of the numbers you typed in the exercises are integers, referred to in Python as int. You can also specify a number to be a float by adding a decimal. Ints never have decimal points and floats always do. In the following exercises you will experiment with the type method. Knowing the type of an object in Python can be very useful in debugging!\n",
    "\n",
    "## Exercises\n",
    "\n",
    "\t1. type(3)\n",
    "\t2. type(3.0)\n",
    "\t3. int(4.2)\n",
    "\t4. int(4.9)\n",
    "    5. float(4)\n",
    "\n",
    "Don't forget to type up a summary."
   ]
  },
  {
   "cell_type": "markdown",
   "metadata": {},
   "source": [
    "## Teacher Notes\n",
    "\n",
    "* type tells you what type something is in Python\n",
    "* numbers can be int, str or float\n",
    "* float have decimals\n",
    "* int drops the decimal and keeps the integer part\n",
    "\n",
    "### Additional Things to Mention\n",
    "\n",
    "* Everything in Python has a type because everything is an object\n",
    "* Knowing what type something is becomes important because certain methods in Python only work on certain types (this is coming up quickly with input)\n",
    "* A lot of errors happen when you have the wrong type, so using type can help you determine where those errors are."
   ]
  },
  {
   "cell_type": "markdown",
   "metadata": {},
   "source": [
    "# More Operations\n",
    "\n",
    "Besides addition, subtraction, multiplication and division, Python can do a few more basic math operations.\n",
    "\n",
    "## Exercises\n",
    "\n",
    "\t1. 4**2\n",
    "\t2. 25**0.5\n",
    "\t3. 8 % 3\n",
    "\t4. 15 % 5\n",
    "\t5. 21 % 4\n",
    "    6. -5 % 3\n",
    "    \n",
    "For more information on exercises 3 - 6, check out the following link:\n",
    "https://www.khanacademy.org/computing/computer-science/cryptography/modarithmetic/a/what-is-modular-arithmetic"
   ]
  },
  {
   "cell_type": "markdown",
   "metadata": {},
   "source": [
    "## Teacher Notes\n",
    "\n",
    "* Double star/asterisk is exponent\n",
    "* the % symbol is modular division\n",
    "* % with positive numbers is easy, just divide and keep the remainder\n",
    "* % with negative numbers is harders, think of a clock and go in the opposite direction"
   ]
  },
  {
   "cell_type": "markdown",
   "metadata": {},
   "source": [
    "# Comparisons\n",
    "\n",
    "Frequently we will want to compare two or more values and do something based on the results. Remember, for each exercise, predict what will happen before you run the cell.\n",
    "\n",
    "## Exercises\n",
    "\n",
    "\t1. 5 > 1 + 2\n",
    "\t2. 10 <= 20/2\n",
    "\t3. 28 = 4 * 7\n",
    "\t4. 16 == 4**2\n",
    "\t5. 75 >= 25**3\n",
    "\t6. 106 != 53 + 53\n",
    "\t7. 6 != 3**2\n",
    "\n",
    "Don't forget to write a summary. Do you know what all the symbols mean? Try Googling what you don't understand.\n"
   ]
  },
  {
   "cell_type": "markdown",
   "metadata": {},
   "source": [
    "## Teacher Notes\n",
    "\n",
    "* Python has math operators like <, >, <= and >=\n",
    "* Python uses = to assign a value to a variable and == to see if two things are the same\n",
    "* Python uses Booleans (True/False) to tell you if a statement is true or false\n",
    "* The != symbol means not equal to"
   ]
  },
  {
   "cell_type": "markdown",
   "metadata": {},
   "source": [
    "# Research Like a Programmer\n",
    "\n",
    "For each of the following problems, do an internet search and figure out how to code a solution and code it in the cell that follows."
   ]
  },
  {
   "cell_type": "markdown",
   "metadata": {},
   "source": [
    "## Problem 1\n",
    "\n",
    "I want to round 2.71828 to two decimal places? How can I make Python round that number for me?"
   ]
  },
  {
   "cell_type": "code",
   "execution_count": 1,
   "metadata": {},
   "outputs": [
    {
     "data": {
      "text/plain": [
       "2.72"
      ]
     },
     "execution_count": 1,
     "metadata": {},
     "output_type": "execute_result"
    }
   ],
   "source": [
    "round(2.71828,2)"
   ]
  },
  {
   "cell_type": "markdown",
   "metadata": {},
   "source": [
    "## Problem 2\n",
    "\n",
    "I want Python to find the absolute value of a number for me. Have Python tell me the absolute value of -15.81."
   ]
  },
  {
   "cell_type": "code",
   "execution_count": 2,
   "metadata": {},
   "outputs": [
    {
     "data": {
      "text/plain": [
       "15.81"
      ]
     },
     "execution_count": 2,
     "metadata": {},
     "output_type": "execute_result"
    }
   ],
   "source": [
    "abs(-15.81)"
   ]
  },
  {
   "cell_type": "markdown",
   "metadata": {},
   "source": [
    "## Problem 3\n",
    "\n",
    "If you noticed, one of the exercises in this lesson found the square root of a number? Python can do square roots another way without using exponenets. Figure out another way to find square roots and find the square root of 8330."
   ]
  },
  {
   "cell_type": "code",
   "execution_count": 3,
   "metadata": {},
   "outputs": [
    {
     "name": "stdout",
     "output_type": "stream",
     "text": [
      "91.26883367283708\n"
     ]
    }
   ],
   "source": [
    "import math\n",
    "print(math.sqrt(8330))"
   ]
  },
  {
   "cell_type": "code",
   "execution_count": null,
   "metadata": {},
   "outputs": [],
   "source": []
  }
 ],
 "metadata": {
  "kernelspec": {
   "display_name": "Python 3",
   "language": "python",
   "name": "python3"
  },
  "language_info": {
   "codemirror_mode": {
    "name": "ipython",
    "version": 3
   },
   "file_extension": ".py",
   "mimetype": "text/x-python",
   "name": "python",
   "nbconvert_exporter": "python",
   "pygments_lexer": "ipython3",
   "version": "3.5.5"
  }
 },
 "nbformat": 4,
 "nbformat_minor": 2
}
