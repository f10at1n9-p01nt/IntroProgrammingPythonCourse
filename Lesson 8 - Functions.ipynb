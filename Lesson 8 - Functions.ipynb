{
 "cells": [
  {
   "cell_type": "markdown",
   "metadata": {},
   "source": [
    "# Introduction\n",
    "\n",
    "As our programs get bigger and more complicated, it's very helpful to organize the code into small chunks that do a specific thing. One of the ways to do that is to create functions. Functions are useful in organizing your script and also giving you code that is easy to run over and over again. In fact, we've already been using functions so far, but functions that are built in to Python. To see a list of those functions, click [here](https://docs.python.org/3/library/functions.html). It's important that you know these built-in functions exist because Python won't let you use any of those names when creating your own functions.\n",
    "\n",
    "In this lesson you will learn how to build your own functions and begin to see ways to organize your code in a more structured and clear way.\n",
    "\n",
    "\n",
    "## Function Syntax\n",
    "\n",
    "You can create a function using the following syntax:\n",
    "\n",
    "```python\n",
    "def <Name of Function>(argument_1, argument_2, etc.):\n",
    "\t<body of function>\n",
    "return <object>\n",
    "```\n",
    "That looks confusing, so let's look at some examples.\n",
    "\n",
    "## Directions for Exercises\n",
    "\n",
    "Unlike like previous lessons, a lot of the explanation is in this lesson. Instead of doing summaries, simply type, execute and study the code until it makes sense to you. **Read the explanations carefully** and feel free to write down any questions you have."
   ]
  },
  {
   "cell_type": "markdown",
   "metadata": {},
   "source": [
    "### Exercise 1\n",
    "```python\n",
    "def adding_two_numbers(arg1, arg2):\n",
    "\tprint(arg1 + arg2)\n",
    "\n",
    "adding_two_numbers(2,5)\n",
    "```"
   ]
  },
  {
   "cell_type": "code",
   "execution_count": null,
   "metadata": {},
   "outputs": [],
   "source": []
  },
  {
   "cell_type": "markdown",
   "metadata": {},
   "source": [
    "### Exercise 2\n",
    "```python\n",
    "def adding_two_numbers(arg1, arg2):\n",
    "\treturn(arg1 + arg2)\n",
    "\n",
    "print(adding_two_numbers(3,8))\n",
    "```"
   ]
  },
  {
   "cell_type": "code",
   "execution_count": null,
   "metadata": {},
   "outputs": [],
   "source": []
  },
  {
   "cell_type": "markdown",
   "metadata": {},
   "source": [
    "### Exercise 3\n",
    "\n",
    "*In this example I'll write 2 scripts that do the same thing, calculate the square of a number. The first script does not use a function, but the second script does.*\n",
    "\n",
    "#### Script 1\n",
    "```python\n",
    "number = input(\"What number would you like to square?\\n\")\n",
    "answer = int(number)**2\n",
    "print(number + \" squared = \" + str(answer))\n",
    "```\n",
    "\n",
    "#### Script 2\n",
    "```python\n",
    "def number_squared(input):\n",
    "\treturn int(input)**2\n",
    "\t\n",
    "number = input(\"What number would you like to square?\\n\")\n",
    "print(number + \" squared = \" + str(number_squared(number)))\n",
    "```"
   ]
  },
  {
   "cell_type": "code",
   "execution_count": null,
   "metadata": {},
   "outputs": [],
   "source": []
  },
  {
   "cell_type": "code",
   "execution_count": null,
   "metadata": {},
   "outputs": [],
   "source": []
  },
  {
   "cell_type": "markdown",
   "metadata": {},
   "source": [
    "### Discussion\n",
    "\n",
    "Do you understand what is happening in these examples?\n",
    "* The statement def is used to define your function.\n",
    "* Example 1 and Example 2 produce the same thing, but have a slight difference.\n",
    "    * In Example 1, our function has a print command in the body. Therefore, when I call the function in the last line of the script, the function will print the sum of the two numbers I have in ( ).\n",
    "    * In Example 2, our function returns a value. This is different. A return statement sends the value to the place in the program that asked the function to run. So in this example, 3 + 8, or 11, is being returned to the print statement and then is printed. Return statements are very useful when we need something done in our program, but the result does not need to be displayed to the user.\n",
    "* In Example 1 and Example 2 the numbers in the ( ), called arguments, are the values passed into the function as arg1 and arg2, respectively. For these two examples the function is going to add the two arguments passed into the function.\n",
    "* In Example 3 the argument passed into the function is actually given by the user. The argument is \"number\" and \"number\" is defined as the input given by the user.\n",
    "* In Example 3 you may notice that the second script is actually longer than the first script. Therefore, you may naturally ask why use functions in this case? Next we'll look at some of the advantages of functions."
   ]
  },
  {
   "cell_type": "markdown",
   "metadata": {},
   "source": [
    "## Why Use Functions?\n",
    "\n",
    "Good question! Functions are useful for some of the following reasons:\n",
    "1. Functions help you break up your program into smaller steps. Instead of trying to write one long code that solves a problem in many steps, write each step of code as a separate function.\n",
    "2. It's easier to debug programs. If you use functions in your code you can test each function individually and find problems much faster and fix the function instead of trying to find the problem in one huge script.\n",
    "3. Functions make the code more readable and clear.\n",
    "4. Functions can be used many times in your program without retyping all the code.\n",
    "5. Functions can be used in other scripts without having to know how the function works. I simply need to know what the function does.\n",
    "6. Functions allow for easier naming of variables. As you'll see in a minute, variables in a function are local to the function and the same variable name can be used outside the function without confusing the program."
   ]
  },
  {
   "cell_type": "markdown",
   "metadata": {},
   "source": [
    "## Docstrings\n",
    "\n",
    "Docstrings tell a user what your function does. To create a docstring you create a comment using triple quotation marks that describes what your function does. When someone calls the help function the information in the docstring will be available to them."
   ]
  },
  {
   "cell_type": "markdown",
   "metadata": {},
   "source": [
    "### Exercise 4\n",
    "```python\n",
    "def adding_two_numbers(arg1, arg2):\n",
    "\t\"\"\"\n",
    "\tAdds two numbers and returns the result.\n",
    "\t\"\"\"\n",
    "\treturn(arg1 + arg2)\n",
    "\n",
    "help(adding_two_numbers)\n",
    "```"
   ]
  },
  {
   "cell_type": "code",
   "execution_count": null,
   "metadata": {},
   "outputs": [],
   "source": []
  },
  {
   "cell_type": "markdown",
   "metadata": {},
   "source": [
    "## Local and Global Variables\n",
    "\n",
    "Look at the following example and notice how the variables defined in a function are specific to that function, even if they have the same name!\n",
    "\n",
    "### Exercise 5\n",
    "```python\n",
    "def my_favorite_number():\n",
    "\tglobal count\n",
    "\tnumber = 7\n",
    "\tprint(number)\n",
    "\tcount += 1\n",
    "\n",
    "count = 0\n",
    "number = 23\n",
    "while count < 2:\n",
    "\tprint(number)\n",
    "\tmy_favorite_number()\n",
    "number += 10\n",
    "print(number)\n",
    "```"
   ]
  },
  {
   "cell_type": "code",
   "execution_count": null,
   "metadata": {},
   "outputs": [],
   "source": []
  },
  {
   "cell_type": "markdown",
   "metadata": {},
   "source": [
    "### Discussion\n",
    "\n",
    "This program isn't very exciting, but it points out several key things:\n",
    "* Notice the variable 'number'. It is used both inside and outside the function my_favorite_number.\n",
    "    * Variables defined in functions are local only to that function.\n",
    "        * Therefore, I can use the same names inside a function that I use outside a function and the same names in many different functions and Python won't confuse them (although I might get confused!)\n",
    "\t* Variables defined outside a function is a global variable and can be referenced throughout the program\n",
    "\t* Notice we are printing 'number' twice. The first time we are printing the global variable 'number', which is 23, and the second time we are running the function and printing 'number' inside of that function, which is 7.\n",
    "\t* Also notice that when I add 10 to 'number', it only adds 10 to the number = 23, not the number = 7 inside the function.\n",
    "* Notice the keyword 'global'. Whenever I want to use a variable in a function that is defined outside the function (or vice versa), I must declare which global variables I want to use. In this case I wanted my function to add to my 'count' variable that I was also using outside the function.\n",
    "    * Programmers tend to discourage the use of global variables as they can cause many bugs, but it's not wrong to use them. [Read this article for a discussion globals](https://stackoverflow.com/questions/19158339/why-are-global-variables-evil).\n",
    "    * Comment out the line 'global count' and see what the program does.\n",
    "* Finally, notice that my function had no input inside the (). Functions don't have to take in an argument. You can simply write a function and have it return something without taking in an input."
   ]
  },
  {
   "cell_type": "markdown",
   "metadata": {},
   "source": [
    "# Conclusion\n",
    "\n",
    "There is a lot more we could look at with functions, such as returning multiple values and the standard practice of having all code inside the main() function, but for now this is a good start. \n",
    "\n",
    "At first functions may feel difficult and clunky, but once you get used to them you'll see how useful they can be in helping you write clean, easy-to-read code, that has less bugs and is more efficient."
   ]
  }
 ],
 "metadata": {
  "kernelspec": {
   "display_name": "Python 3",
   "language": "python",
   "name": "python3"
  },
  "language_info": {
   "codemirror_mode": {
    "name": "ipython",
    "version": 3
   },
   "file_extension": ".py",
   "mimetype": "text/x-python",
   "name": "python",
   "nbconvert_exporter": "python",
   "pygments_lexer": "ipython3",
   "version": "3.6.5"
  }
 },
 "nbformat": 4,
 "nbformat_minor": 2
}
