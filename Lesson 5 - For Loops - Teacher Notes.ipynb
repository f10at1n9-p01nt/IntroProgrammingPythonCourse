{
 "cells": [
  {
   "cell_type": "markdown",
   "metadata": {},
   "source": [
    "# Introduction\n",
    "\n",
    "One of the great things about computers is that they are good at repeating the same instructions over and over again as many times as we want them to. We get a computer to do this by looping back to a given set of instructions. One of these loops is a definite(or counting) loop called a for loop.\n",
    "\n",
    "## For Loop\n",
    "\n",
    "The basic for with *for* loops is:\n",
    "\n",
    "```python\n",
    "for <variable> in <sequence>:\n",
    "    <body>\n",
    "````\n",
    "\n",
    "The best way to understand for loops is to experience them.\n",
    "\n",
    "## Directions for Exercises\n",
    "\n",
    "Type each of the excercises in the Python notebook. Before you run the cell, take a look at the code and try to figure out what it might do.\n",
    "\n",
    "After you have done all of the exercises, use Markdown to type a summary of what you learned in the next cell. What did you learn? What questions do you still have?"
   ]
  },
  {
   "cell_type": "markdown",
   "metadata": {},
   "source": [
    "### Exercise 1\n",
    "\n",
    "```python\n",
    "for num in range(1,5):\n",
    "    print(\"I love loops!\")\n",
    "```"
   ]
  },
  {
   "cell_type": "code",
   "execution_count": null,
   "metadata": {},
   "outputs": [],
   "source": []
  },
  {
   "cell_type": "markdown",
   "metadata": {},
   "source": [
    "### Exercise 2\n",
    "```python\n",
    "for num in range(1,5):\n",
    "    print(num)\n",
    "```"
   ]
  },
  {
   "cell_type": "code",
   "execution_count": null,
   "metadata": {},
   "outputs": [],
   "source": []
  },
  {
   "cell_type": "markdown",
   "metadata": {},
   "source": [
    "## What is Happening?\n",
    "\n",
    "1. The for command tells Python that we are entering into a counted loop\n",
    "2. \"num\" is our variable. The value of num is changing each time through the loop.\n",
    "3. The range function tells us how many times to go through the loop (or iterate). [For more information on the range function read this documentation.](https://docs.python.org/2/library/functions.html#range) In this case we are going through the loop four times.\n",
    "4. The first time through the loop num = 1.\n",
    "5. After num is assigned to 1 the body of the loop is performed. In example 1 the body says to print \"I love loops!\" and in example 2 we print the variable num.\n",
    "6. After the commands in the body are complete (in these examples there is only one command), the loop continues to the next value in the sequence. The variable num = 2 now.\n",
    "7. Repeat the process of performing the commands in the body and reassigning the variable num to the next value of the sequence until the last number, 4, is reached.\n",
    "8. The loop then terminates.\n",
    "\n",
    "### Take note:\n",
    "* The body is run once for each value of the sequence\n",
    "* The colon at the end of the for statement\n",
    "* The indentation of the body under the for statement\n",
    "* Range only goes up to the number before the one listed. In the first two examples, the range function only counted up to 4."
   ]
  },
  {
   "cell_type": "markdown",
   "metadata": {},
   "source": [
    "### Exercise 3\n",
    "```python\n",
    "for value in range(5):\n",
    "    print(value, \"times 8 = \", value * 8)\n",
    "```"
   ]
  },
  {
   "cell_type": "code",
   "execution_count": null,
   "metadata": {},
   "outputs": [],
   "source": []
  },
  {
   "cell_type": "markdown",
   "metadata": {},
   "source": [
    "### Exercise 4\n",
    "```python\n",
    "string = \"IhlovehPython!\"\n",
    "for letter in string:\n",
    "\tif letter == \"h\":\n",
    "\t\tprint(\" \")\n",
    "\telse:\n",
    "        print(letter)\n",
    "```"
   ]
  },
  {
   "cell_type": "code",
   "execution_count": null,
   "metadata": {},
   "outputs": [],
   "source": []
  },
  {
   "cell_type": "markdown",
   "metadata": {},
   "source": [
    "## Keep Counting\n",
    "\n",
    "In the example below the idea of using for loops to count or add up something is illustrated. To illustrate this I use a data type called a list (we'll cover lists in depth in a future lesson). For now, don't worry about all the things lists do. For this example the list is just a collection of numbers that the for loop will be going through one at a time.\n",
    "\n",
    "### Exercise 5\n",
    "```python\n",
    "total = 0\n",
    "list = [1,2,3,4,5]\n",
    "for num in list:\n",
    "\ttotal += num\n",
    "print(total)\n",
    "```"
   ]
  },
  {
   "cell_type": "code",
   "execution_count": null,
   "metadata": {},
   "outputs": [],
   "source": []
  },
  {
   "cell_type": "markdown",
   "metadata": {},
   "source": [
    "## Python Convention\n",
    "\n",
    "In the above examples I used variable names in my loops like num, value and letter that helped describe what these variables represent in my loop. While this is ok to do, the convention in Python is to use variables i, j, and k in loops. \n",
    "\n",
    "Once again, read the program below and try to predict what it will do before you run it. Then run the program in Python. Make sure you understand what each line of code does before you move on to the next lesson.\n",
    "\n",
    "### Exercise 6\n",
    "```python\n",
    "string = \"I am looking for the first o.\"\n",
    "string_pos = 0\n",
    "for i in string:\n",
    "    if i == \"o\":\n",
    "        print(\"I found the first 'o'.\")\n",
    "        print(\"It is right after the letter \" + string[string_pos-1])\n",
    "        break\n",
    "    string_pos += 1\n",
    "```"
   ]
  },
  {
   "cell_type": "code",
   "execution_count": 1,
   "metadata": {},
   "outputs": [
    {
     "name": "stdout",
     "output_type": "stream",
     "text": [
      "I found the first 'o'.\n",
      "It is right after the letter l\n"
     ]
    }
   ],
   "source": [
    "string = \"I am looking for the first o.\"\n",
    "string_pos = 0\n",
    "for i in string:\n",
    "    if i == \"o\":\n",
    "        print(\"I found the first 'o'.\")\n",
    "        print(\"It is right after the letter \" + string[string_pos-1])\n",
    "        break\n",
    "    string_pos += 1"
   ]
  },
  {
   "cell_type": "markdown",
   "metadata": {},
   "source": [
    "### Take Note\n",
    "\n",
    "It's important you notice the variable string_pos is initialized (begun) outside the loop. With string_pos, I want to keep track of my position while going through the string. I begin at position 0 and then after I check each letter in the string I update string_pos by adding 1 to it.\n",
    "\n",
    "Whenever you want to keep track of something in a loop, make sure you introduce the variable outside of the loop.\n",
    "\n",
    "## Challenge\n",
    "\n",
    "Can you modify the above program to find the letter 'o' but instead of finding the first 'o' have it find the third 'o' and print the letter the third 'o' is after?"
   ]
  },
  {
   "cell_type": "code",
   "execution_count": null,
   "metadata": {},
   "outputs": [],
   "source": []
  }
 ],
 "metadata": {
  "kernelspec": {
   "display_name": "Python 3",
   "language": "python",
   "name": "python3"
  },
  "language_info": {
   "codemirror_mode": {
    "name": "ipython",
    "version": 3
   },
   "file_extension": ".py",
   "mimetype": "text/x-python",
   "name": "python",
   "nbconvert_exporter": "python",
   "pygments_lexer": "ipython3",
   "version": "3.6.5"
  }
 },
 "nbformat": 4,
 "nbformat_minor": 2
}
