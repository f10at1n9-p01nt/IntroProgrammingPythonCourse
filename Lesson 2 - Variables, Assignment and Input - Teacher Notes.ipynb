<<<<<<< HEAD
{
 "cells": [
  {
   "cell_type": "markdown",
   "metadata": {},
   "source": [
    "# Introduction\n",
    "\n",
    "To make more interesting programs we need ways of storing data and interacting with the user. In this lesson we look at how Python stores information in variables using an assignment statement and how we can get input from the user.\n",
    "\n",
    "## Directions for Exercises\n",
    "\n",
    "Type each of the excercises in a separate cell of the Python notebook. Before you run the cell, predict what you think the output will be.\n",
    "\n",
    "After you have done all of the exercises, use Markdown to type a summary of what you learned in the next cell. Did you predict any incorrectly? Which ones? What did you learn? What questions do you still have?"
   ]
  },
  {
   "cell_type": "markdown",
   "metadata": {},
   "source": [
    "# Assignment Statements\n",
    "\n",
    "A very important part of computers and programming is having a way for the computer to store something that it can recall later. In Python we do that using an assignment statement.\n",
    "\n",
    "The basic form of an assignment is <br>\n",
    "`<variable> = <expr>`\n",
    "\n",
    "The equal sign is used to assign a label, or variable, to some quantity, like a number or string.\n",
    "\n",
    "## Exercises\n",
    "\n",
    "    1. MyName = \"Frank\"\n",
    "    2. MYNAME = \"Jane\"\t\n",
    "    3. print(MyName)\n",
    "    4. print (MYNAME)\n",
    "    5. print(myname)\n",
    "    6. print(\"MyName\")\n",
    "    7. 134 = \"My favorite number\"\n",
    "    8. current time = 3\n",
    "    9. favorite_color = \"blue\"\n",
    "    10. color = favorite_color\n",
    "    11. print(color)\n",
    "    12. your_teacher = \"Mr. Yaiko\"\n",
    "    13. my_teacher = your_teacher\n",
    "    14. your_teacher = \"Mr. Olson\"\n",
    "    15. print(my_teacher)"
   ]
  },
  {
   "cell_type": "code",
   "execution_count": 1,
   "metadata": {},
   "outputs": [
    {
     "ename": "SyntaxError",
     "evalue": "invalid syntax (<ipython-input-1-1dfbd0041cbe>, line 8)",
     "output_type": "error",
     "traceback": [
      "\u001b[1;36m  File \u001b[1;32m\"<ipython-input-1-1dfbd0041cbe>\"\u001b[1;36m, line \u001b[1;32m8\u001b[0m\n\u001b[1;33m    current time = 3\u001b[0m\n\u001b[1;37m               ^\u001b[0m\n\u001b[1;31mSyntaxError\u001b[0m\u001b[1;31m:\u001b[0m invalid syntax\n"
     ]
    }
   ],
   "source": [
    "MyName = \"Frank\"\n",
    "MYNAME = \"Jane\"\n",
    "print(MyName)\n",
    "print(MYNAME)\n",
    "print(myname)\n",
    "print(\"MyName\")\n",
    "134 = \"My favorite number\"\n",
    "current time = 3\n",
    "favorite_color = \"blue\"\n",
    "color = favorite_color\n",
    "print(color)\n",
    "your_teacher = \"Mr. Yaiko\"\n",
    "my_teacher = your_teacher\n",
    "your_teacher = \"Mr. Olson\"\n",
    "print(my_teacher)"
   ]
  },
  {
   "cell_type": "code",
   "execution_count": null,
   "metadata": {},
   "outputs": [],
   "source": [
    "MyName = \"Frank\"\n",
    "MYNAME = \"Jane\"\n",
    "print(MyName)\n",
    "print(MYNAME)\n",
    "#print(myname)\n",
    "print(\"MyName\")\n",
    "#134 = \"My favorite number\"\n",
    "#current time = 3\n",
    "favorite_color = \"blue\"\n",
    "color = favorite_color\n",
    "print(color)\n",
    "your_teacher = \"Mr. Yaiko\"\n",
    "my_teacher = your_teacher\n",
    "your_teacher = \"Mr. Olson\"\n",
    "print(my_teacher)"
   ]
  },
  {
   "cell_type": "markdown",
   "metadata": {},
   "source": [
    "## Teacher Notes\n",
    "\n",
    "* Variables are case-sensitive\n",
    "* Printing a variable is different than printing a string (indicated by \" \")\n",
    "* You can't use numbers as variables (line 7)\n",
    "* You can't have spaces in variable names (line 8)\n",
    "* You can assign variables to new variables\n",
    "* When you assign a variable to a different variable and then change the original variable, it doesn't change the new one (lines 12 - 15)"
   ]
  },
  {
   "cell_type": "markdown",
   "metadata": {},
   "source": [
    "# Input\n",
    "\n",
    "Programs in their most basic form:\n",
    "\t1. Get input\n",
    "\t2. Process input\n",
    "\t3. Produce output\n",
    "\n",
    "What if you want to get input from the user? What do you use?\n",
    "\n",
    "In Python, we use the input function.\n",
    "\n",
    "`<variable> = input(<prompt>)`\n",
    "\n",
    "By default, the input function produces the type string. We'll learn more about strings in the next lesson, but for now it is important to know that whenever you use input that Python will interpret the user response as a string.\n",
    "\n",
    "## Exercises\n",
    "\n",
    "### Exercise 1\n",
    "\n",
    "```python\n",
    "    age = input(\"How old are you? \")\n",
    "    print(type(age))\n",
    "    new_age = int(age) + 20\n",
    "    print(\"In 20 years you will be \" + str(new_age) + \" years old.\")\n",
    "```    "
   ]
  },
  {
   "cell_type": "code",
   "execution_count": 3,
   "metadata": {},
   "outputs": [
    {
     "name": "stdout",
     "output_type": "stream",
     "text": [
      "How old are you? 36\n",
      "<class 'int'>\n"
     ]
    },
    {
     "ename": "TypeError",
     "evalue": "Can't convert 'int' object to str implicitly",
     "output_type": "error",
     "traceback": [
      "\u001b[1;31m---------------------------------------------------------------------------\u001b[0m",
      "\u001b[1;31mTypeError\u001b[0m                                 Traceback (most recent call last)",
      "\u001b[1;32m<ipython-input-3-3324fe7cd416>\u001b[0m in \u001b[0;36m<module>\u001b[1;34m()\u001b[0m\n\u001b[0;32m      2\u001b[0m \u001b[0mprint\u001b[0m\u001b[1;33m(\u001b[0m\u001b[0mtype\u001b[0m\u001b[1;33m(\u001b[0m\u001b[0mage\u001b[0m\u001b[1;33m)\u001b[0m\u001b[1;33m)\u001b[0m\u001b[1;33m\u001b[0m\u001b[0m\n\u001b[0;32m      3\u001b[0m \u001b[0mnew_age\u001b[0m \u001b[1;33m=\u001b[0m \u001b[0mage\u001b[0m \u001b[1;33m+\u001b[0m \u001b[1;36m20\u001b[0m\u001b[1;33m\u001b[0m\u001b[0m\n\u001b[1;32m----> 4\u001b[1;33m \u001b[0mprint\u001b[0m\u001b[1;33m(\u001b[0m\u001b[1;34m\"In 20 years you will be \"\u001b[0m \u001b[1;33m+\u001b[0m \u001b[1;33m(\u001b[0m\u001b[0mnew_age\u001b[0m\u001b[1;33m)\u001b[0m \u001b[1;33m+\u001b[0m \u001b[1;34m\" years old.\"\u001b[0m\u001b[1;33m)\u001b[0m\u001b[1;33m\u001b[0m\u001b[0m\n\u001b[0m",
      "\u001b[1;31mTypeError\u001b[0m: Can't convert 'int' object to str implicitly"
     ]
    }
   ],
   "source": [
    "age = int(input(\"How old are you? \"))\n",
    "print(type(age))\n",
    "new_age = age + 20\n",
    "print(\"In 20 years you will be \" + str(new_age) + \" years old.\")"
   ]
  },
  {
   "cell_type": "markdown",
   "metadata": {},
   "source": [
    "### Exercise 2\n",
    "\n",
    "```python\n",
    "    name = input(\"Enter your name: \")\n",
    "    print(name)\n",
    "    print(\"My name is \" + name + \". How are you?\")\n",
    "```"
   ]
  },
  {
   "cell_type": "code",
   "execution_count": null,
   "metadata": {},
   "outputs": [],
   "source": [
    "poop = input(\"Enter your name: \")\n",
    "print(poop)\n",
    "print(\"My name is \" + poop + \". How are you?\")"
   ]
  },
  {
   "cell_type": "markdown",
   "metadata": {},
   "source": [
    "### Exercise 3\n",
    "\n",
    "```python\n",
    "my_number = 14\n",
    "your_number = input(\"What is your favorite number? \") \n",
    "print(my_number > your_number)\n",
    "```\n",
    "\n",
    "Exercise 3 has an error. Do you know what is causing that error? Use exercise 1 and 2 to help you. If you figure out how to fix it, type the correct code in another cell."
   ]
  },
  {
   "cell_type": "code",
   "execution_count": 5,
   "metadata": {},
   "outputs": [
    {
     "name": "stdout",
     "output_type": "stream",
     "text": [
      "What is your favorite number? 1009\n",
      "False\n"
     ]
    }
   ],
   "source": [
    "my_number = 14\n",
    "your_number = int(input(\"What is your favorite number? \"))\n",
    "print(my_number > int(your_number))"
   ]
  },
  {
   "cell_type": "code",
   "execution_count": null,
   "metadata": {},
   "outputs": [],
   "source": [
    "my_number = 14\n",
    "# Remember, input is a string. But we want a number so we need to typecast it.\n",
    "your_number = float(input(\"What is your favorite number? \"))\n",
    "print(my_number > your_number)"
   ]
  },
  {
   "cell_type": "markdown",
   "metadata": {},
   "source": [
    "## Teacher Notes\n",
    "\n",
    "* Use variables to store input in a program\n",
    "* Input is always treated as a string\n",
    "* You need to typecast the input to a different type (int or float) if you want to use it as a number\n",
    "* Strings can be printed together using + (this is call concatenating a string)\n",
    "* If you want to concatenate a number to a string, you must typecast the number into a string using str\n",
    "* You can use spaces before and after quotation marks (\" \") in order to make the output look better.\n"
   ]
  },
  {
   "cell_type": "markdown",
   "metadata": {},
   "source": [
    "# Research Like a Programmer\n",
    "\n",
    "Do some Googling to figure out how to handle the following situations.\n",
    "\n",
    "## Problem 1\n",
    "\n",
    "You want to know Python's rules and style guide for naming variables. Summarize the rules below. Include the link you used."
   ]
  },
  {
   "cell_type": "markdown",
   "metadata": {},
   "source": [
    "You should use lowercase letters and separate words with an underscore _"
   ]
  },
  {
   "cell_type": "markdown",
   "metadata": {},
   "source": [
    "## Problem 2\n",
    "\n",
    "You want to get input from a user but you want them to type the response on a the next line. How can you do this? Type code below that asks for the user's age and has them type their response on a new line."
   ]
  },
  {
   "cell_type": "code",
   "execution_count": 6,
   "metadata": {},
   "outputs": [
    {
     "name": "stdout",
     "output_type": "stream",
     "text": [
      "How old are you?\n",
      "56\n"
     ]
    }
   ],
   "source": [
    "age = input(\"How old are you?\\n\")"
   ]
  },
  {
   "cell_type": "markdown",
   "metadata": {},
   "source": [
    "## Problem 3\n",
    "\n",
    "I want to assign a = 1, b = 2, c = 3, d = 4 and e = 5, but I don't want to take five lines of code to do that as shown below:\n",
    "\n",
    "```python\n",
    "a = 1\n",
    "b = 2\n",
    "c = 3\n",
    "d = 4\n",
    "e = 5\n",
    "```\n",
    "\n",
    "I want to do this in one line. How can I do this?"
   ]
  },
  {
   "cell_type": "code",
   "execution_count": 8,
   "metadata": {},
   "outputs": [
    {
     "name": "stdout",
     "output_type": "stream",
     "text": [
      "3\n"
     ]
    }
   ],
   "source": [
    "a,b,c,d,e = 1,2,3,4,5\n",
    "print(c)"
   ]
  },
  {
   "cell_type": "markdown",
   "metadata": {},
   "source": [
    "## Problem 4\n",
    "\n",
    "Python 2 has a different way of getting input. What command does Python 2 use?"
   ]
  },
  {
   "cell_type": "code",
   "execution_count": null,
   "metadata": {},
   "outputs": [],
   "source": [
    "raw_input()"
   ]
  }
 ],
 "metadata": {
  "kernelspec": {
   "display_name": "Python 3",
   "language": "python",
   "name": "python3"
  },
  "language_info": {
   "codemirror_mode": {
    "name": "ipython",
    "version": 3
   },
   "file_extension": ".py",
   "mimetype": "text/x-python",
   "name": "python",
   "nbconvert_exporter": "python",
   "pygments_lexer": "ipython3",
   "version": "3.5.5"
  }
 },
 "nbformat": 4,
 "nbformat_minor": 2
}
||||||| merged common ancestors
=======
{
 "cells": [
  {
   "cell_type": "markdown",
   "metadata": {},
   "source": [
    "# Introduction\n",
    "\n",
    "To make more interesting programs we need ways of storing data and interacting with the user. In this lesson we look at how Python stores information in variables using an assignment statement and how we can get input from the user.\n",
    "\n",
    "## Directions for Exercises\n",
    "\n",
    "Type each of the excercises in a separate cell of the Python notebook. Before you run the cell, predict what you think the output will be.\n",
    "\n",
    "After you have done all of the exercises, use Markdown to type a summary of what you learned in the next cell. Did you predict any incorrectly? Which ones? What did you learn? What questions do you still have?"
   ]
  },
  {
   "cell_type": "markdown",
   "metadata": {},
   "source": [
    "# Assignment Statements\n",
    "\n",
    "A very important part of computers and programming is having a way for the computer to store something that it can recall later. In Python we do that using an assignment statement.\n",
    "\n",
    "The basic form of an assignment is <br>\n",
    "`<variable> = <expr>`\n",
    "\n",
    "The equal sign is used to assign a label, or variable, to some quantity, like a number or string.\n",
    "\n",
    "## Exercises\n",
    "\n",
    "    1. MyName = \"Frank\"\n",
    "    2. MYNAME = \"Jane\"\t\n",
    "    3. print(MyName)\n",
    "    4. print (MYNAME)\n",
    "    5. print(myname)\n",
    "    6. print(\"MyName\")\n",
    "    7. 134 = \"My favorite number\"\n",
    "    8. current time = 3\n",
    "    9. favorite_color = \"blue\"\n",
    "    10. color = favorite_color\n",
    "    11. print(color)\n",
    "    12. your_teacher = \"Mr. Yaiko\"\n",
    "    13. my_teacher = your_teacher\n",
    "    14. your_teacher = \"Mr. Olson\"\n",
    "    15. print(my_teacher)"
   ]
  },
  {
   "cell_type": "code",
   "execution_count": 2,
   "metadata": {},
   "outputs": [
    {
     "ename": "SyntaxError",
     "evalue": "invalid syntax (<ipython-input-2-e62ebeb7f29b>, line 8)",
     "output_type": "error",
     "traceback": [
      "\u001b[1;36m  File \u001b[1;32m\"<ipython-input-2-e62ebeb7f29b>\"\u001b[1;36m, line \u001b[1;32m8\u001b[0m\n\u001b[1;33m    current time = 3\u001b[0m\n\u001b[1;37m               ^\u001b[0m\n\u001b[1;31mSyntaxError\u001b[0m\u001b[1;31m:\u001b[0m invalid syntax\n"
     ]
    }
   ],
   "source": [
    "MyName = \"Frank\"\n",
    "MYNAME = \"Jane\"\n",
    "print(MyName)\n",
    "print (MYNAME)\n",
    "print (myname)\n",
    "print(\"MyName\")\n",
    "134 = \"My favorite number\"\n",
    "current time = 3\n",
    "favorite_color = \"blue\"\n",
    "color = favorite_color\n",
    "print(color)\n",
    "your_teacher = \"Mr. Yaiko\"\n",
    "my_teacher = your_teacher\n",
    "your_teacher = \"Mr. Olson\"\n",
    "print(my_teacher)"
   ]
  },
  {
   "cell_type": "code",
   "execution_count": 3,
   "metadata": {},
   "outputs": [
    {
     "name": "stdout",
     "output_type": "stream",
     "text": [
      "Frank\n",
      "Jane\n",
      "MyName\n",
      "blue\n",
      "Mr. Yaiko\n"
     ]
    }
   ],
   "source": [
    "MyName = \"Frank\"\n",
    "MYNAME = \"Jane\"\n",
    "print(MyName)\n",
    "print (MYNAME)\n",
    "#print (myname)\n",
    "print(\"MyName\")\n",
    "#134 = \"My favorite number\"\n",
    "#current time = 3\n",
    "favorite_color = \"blue\"\n",
    "color = favorite_color\n",
    "print(color)\n",
    "your_teacher = \"Mr. Yaiko\"\n",
    "my_teacher = your_teacher\n",
    "your_teacher = \"Mr. Olson\"\n",
    "print(my_teacher)"
   ]
  },
  {
   "cell_type": "markdown",
   "metadata": {},
   "source": [
    "## Teacher Notes\n",
    "\n",
    "* Case matters for variable names\n",
    "* You can print variables (don't include \" \" as that indicates a string)\n",
    "* You may or may not have a space after the word print (I recommend not having one)\n",
    "* Variable names can not be purely numbers (than can be a combination of letters and numbers though)\n",
    "* Variable names can not have spaces in them. Use an _ for separating words or case (underscore in standard)\n",
    "* You can assign variables to other variables\n",
    "* When you assign a new variable to an old variable and update the old variable, the new variable does not change"
   ]
  },
  {
   "cell_type": "markdown",
   "metadata": {},
   "source": [
    "# Input\n",
    "\n",
    "Programs in their most basic form:\n",
    "\t1. Get input\n",
    "\t2. Process input\n",
    "\t3. Produce output\n",
    "\n",
    "What if you want to get input from the user? What do you use?\n",
    "\n",
    "In Python, we use the input function.\n",
    "\n",
    "`<variable> = input(<prompt>)`\n",
    "\n",
    "By default, the input function produces the type string. We'll learn more about strings in the next lesson, but for now it is important to know that whenever you use input that Python will interpret the user response as a string.\n",
    "\n",
    "## Exercises\n",
    "\n",
    "### Exercise 1\n",
    "\n",
    "```python\n",
    "    age = input(\"How old are you? \")\n",
    "    print(type(age))\n",
    "    new_age = int(age) + 20\n",
    "    print(\"In 20 years you will be \" + str(new_age) + \" years old.\")\n",
    "```    "
   ]
  },
  {
   "cell_type": "code",
   "execution_count": 5,
   "metadata": {},
   "outputs": [
    {
     "name": "stdout",
     "output_type": "stream",
     "text": [
      "How old are you? 36\n",
      "<class 'str'>\n",
      "In 20 years you will be 56 years old.\n"
     ]
    }
   ],
   "source": [
    "age = input(\"How old are you? \")\n",
    "print(type(age))\n",
    "new_age = int(age) + 20\n",
    "print(\"In 20 years you will be \" + str(new_age) + \" years old.\")"
   ]
  },
  {
   "cell_type": "markdown",
   "metadata": {},
   "source": [
    "### Exercise 2\n",
    "\n",
    "```python\n",
    "    name = input(\"Enter your name: \")\n",
    "    print(name)\n",
    "    print(\"My name is \" + name + \". How are you?\")\n",
    "```"
   ]
  },
  {
   "cell_type": "code",
   "execution_count": 11,
   "metadata": {},
   "outputs": [
    {
     "name": "stdout",
     "output_type": "stream",
     "text": [
      "Enter your name: Mr. Yaiko\n",
      "Mr. Yaiko\n",
      "My name is Mr. Yaiko. How are you?\n"
     ]
    }
   ],
   "source": [
    "name = input(\"Enter your name: \")\n",
    "print(name)\n",
    "print(\"My name is \" + name + \". How are you?\")"
   ]
  },
  {
   "cell_type": "markdown",
   "metadata": {},
   "source": [
    "### Exercise 3\n",
    "\n",
    "```python\n",
    "my_number = 14\n",
    "your_number = input(\"What is your favorite number? \") \n",
    "print(my_number > your_number)\n",
    "```\n",
    "\n",
    "Exercise 3 has an error. Do you know what is causing that error? Use exercise 1 and 2 to help you. If you figure out how to fix it, type the correct code in another cell."
   ]
  },
  {
   "cell_type": "code",
   "execution_count": 7,
   "metadata": {},
   "outputs": [
    {
     "name": "stdout",
     "output_type": "stream",
     "text": [
      "What is your favorite number? 14\n"
     ]
    },
    {
     "ename": "TypeError",
     "evalue": "'>' not supported between instances of 'int' and 'str'",
     "output_type": "error",
     "traceback": [
      "\u001b[1;31m---------------------------------------------------------------------------\u001b[0m",
      "\u001b[1;31mTypeError\u001b[0m                                 Traceback (most recent call last)",
      "\u001b[1;32m<ipython-input-7-1988a02b363a>\u001b[0m in \u001b[0;36m<module>\u001b[1;34m()\u001b[0m\n\u001b[0;32m      1\u001b[0m \u001b[0mmy_number\u001b[0m \u001b[1;33m=\u001b[0m \u001b[1;36m14\u001b[0m\u001b[1;33m\u001b[0m\u001b[0m\n\u001b[0;32m      2\u001b[0m \u001b[0myour_number\u001b[0m \u001b[1;33m=\u001b[0m \u001b[0minput\u001b[0m\u001b[1;33m(\u001b[0m\u001b[1;34m\"What is your favorite number? \"\u001b[0m\u001b[1;33m)\u001b[0m\u001b[1;33m\u001b[0m\u001b[0m\n\u001b[1;32m----> 3\u001b[1;33m \u001b[0mprint\u001b[0m\u001b[1;33m(\u001b[0m\u001b[0mmy_number\u001b[0m \u001b[1;33m>\u001b[0m \u001b[0myour_number\u001b[0m\u001b[1;33m)\u001b[0m\u001b[1;33m\u001b[0m\u001b[0m\n\u001b[0m",
      "\u001b[1;31mTypeError\u001b[0m: '>' not supported between instances of 'int' and 'str'"
     ]
    }
   ],
   "source": [
    "my_number = 14\n",
    "your_number = input(\"What is your favorite number? \") \n",
    "print(my_number > your_number)"
   ]
  },
  {
   "cell_type": "code",
   "execution_count": 8,
   "metadata": {},
   "outputs": [
    {
     "name": "stdout",
     "output_type": "stream",
     "text": [
      "What is your favorite number? 14\n",
      "False\n"
     ]
    }
   ],
   "source": [
    "my_number = 14\n",
    "# Need to typecast input to an int\n",
    "your_number = int(input(\"What is your favorite number? \")) \n",
    "print(my_number > your_number)"
   ]
  },
  {
   "cell_type": "markdown",
   "metadata": {},
   "source": [
    "## Teacher Notes\n",
    "\n",
    "* input() is the type str, which is a string. We'll learn about strings next lesson. This is true even if the user types in a number. Python treats the number like a word.\n",
    "* In order to do math with input, we need to change it to an int (or a float).\n",
    "* I can print a variable with other text.\n",
    "* If the variable is not a string, I need to turn it into one using str()\n",
    "* Adding spaces before or after a \" makes the output look cleaner"
   ]
  },
  {
   "cell_type": "markdown",
   "metadata": {},
   "source": [
    "# Research Like a Programmer\n",
    "\n",
    "Do some Googling to figure out how to handle the following situations.\n",
    "\n",
    "## Problem 1\n",
    "\n",
    "You want to know Python's rules and style guide for naming variables. Summarize the rules below. Include the link you used."
   ]
  },
  {
   "cell_type": "markdown",
   "metadata": {},
   "source": [
    "## Convention\n",
    "\n",
    "* Use lower case letters and _ to separate words\n",
    "\n",
    "https://thehelloworldprogram.com/python/python-variable-assignment-statements-rules-conventions-naming/"
   ]
  },
  {
   "cell_type": "markdown",
   "metadata": {},
   "source": [
    "## Problem 2\n",
    "\n",
    "You want to get input from a user but you want them to type the response on a the next line. How can you do this? Type code below that asks for the user's age and has them type their response on a new line."
   ]
  },
  {
   "cell_type": "code",
   "execution_count": 9,
   "metadata": {},
   "outputs": [
    {
     "name": "stdout",
     "output_type": "stream",
     "text": [
      "How old are you?\n",
      "36\n"
     ]
    }
   ],
   "source": [
    "age = input(\"How old are you?\\n\")"
   ]
  },
  {
   "cell_type": "markdown",
   "metadata": {},
   "source": [
    "## Problem 3\n",
    "\n",
    "I want to assign a = 1, b = 2, c = 3, d = 4 and e = 5, but I don't want to take five lines of code to do that as shown below:\n",
    "\n",
    "```python\n",
    "a = 1\n",
    "b = 2\n",
    "c = 3\n",
    "d = 4\n",
    "e = 5\n",
    "```\n",
    "\n",
    "I want to do this in one line. How can I do this?"
   ]
  },
  {
   "cell_type": "code",
   "execution_count": 10,
   "metadata": {},
   "outputs": [],
   "source": [
    "a,b,c,d,e = 1,2,3,4,5"
   ]
  },
  {
   "cell_type": "markdown",
   "metadata": {},
   "source": [
    "## Problem 4\n",
    "\n",
    "Python 2 has a different way of getting input. What command does Python 2 use?"
   ]
  },
  {
   "cell_type": "markdown",
   "metadata": {},
   "source": [
    "raw_input()"
   ]
  }
 ],
 "metadata": {
  "kernelspec": {
   "display_name": "Python 3",
   "language": "python",
   "name": "python3"
  },
  "language_info": {
   "codemirror_mode": {
    "name": "ipython",
    "version": 3
   },
   "file_extension": ".py",
   "mimetype": "text/x-python",
   "name": "python",
   "nbconvert_exporter": "python",
   "pygments_lexer": "ipython3",
   "version": "3.6.5"
  }
 },
 "nbformat": 4,
 "nbformat_minor": 2
}
>>>>>>> c84eb85031085c8534df7a9da610f3ed4be62c6a
