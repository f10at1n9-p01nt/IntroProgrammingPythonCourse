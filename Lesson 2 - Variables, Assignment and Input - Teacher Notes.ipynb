{
 "cells": [
  {
   "cell_type": "markdown",
   "metadata": {},
   "source": [
    "# Introduction\n",
    "\n",
    "To make more interesting programs we need ways of storing data and interacting with the user. In this lesson we look at how Python stores information in variables using an assignment statement and how we can get input from the user.\n",
    "\n",
    "## Directions for Exercises\n",
    "\n",
    "Type each of the excercises in a separate cell of the Python notebook. Before you run the cell, predict what you think the output will be.\n",
    "\n",
    "After you have done all of the exercises, use Markdown to type a summary of what you learned in the next cell. Did you predict any incorrectly? Which ones? What did you learn? What questions do you still have?"
   ]
  },
  {
   "cell_type": "markdown",
   "metadata": {},
   "source": [
    "# Assignment Statements\n",
    "\n",
    "A very important part of computers and programming is having a way for the computer to store something that it can recall later. In Python we do that using an assignment statement.\n",
    "\n",
    "The basic form of an assignment is <br>\n",
    "`<variable> = <expr>`\n",
    "\n",
    "The equal sign is used to assign a label, or variable, to some quantity, like a number or string.\n",
    "\n",
    "## Exercises\n",
    "\n",
    "    1. MyName = \"Frank\"\n",
    "    2. MYNAME = \"Jane\"\t\n",
    "    3. print(MyName)\n",
    "    4. print (MYNAME)\n",
    "    5. print(myname)\n",
    "    6. print(\"MyName\")\n",
    "    7. 134 = \"My favorite number\"\n",
    "    8. current time = 3\n",
    "    9. favorite_color = \"blue\"\n",
    "    10. color = favorite_color\n",
    "    11. print(color)\n",
    "    12. your_teacher = \"Mr. Yaiko\"\n",
    "    13. my_teacher = your_teacher\n",
    "    14. your_teacher = \"Mr. Olson\"\n",
    "    15. print(my_teacher)"
   ]
  },
  {
   "cell_type": "code",
   "execution_count": null,
   "metadata": {},
   "outputs": [],
   "source": []
  },
  {
   "cell_type": "markdown",
   "metadata": {},
   "source": [
    "# Input\n",
    "\n",
    "Programs in their most basic form:\n",
    "\t1. Get input\n",
    "\t2. Process input\n",
    "\t3. Produce output\n",
    "\n",
    "What if you want to get input from the user? What do you use?\n",
    "\n",
    "In Python, we use the input function.\n",
    "\n",
    "`<variable> = input(<prompt>)`\n",
    "\n",
    "By default, the input function produces the type string. We'll learn more about strings in the next lesson, but for now it is important to know that whenever you use input that Python will interpret the user response as a string.\n",
    "\n",
    "## Exercises\n",
    "\n",
    "### Exercise 1\n",
    "\n",
    "```python\n",
    "    age = input(\"How old are you? \")\n",
    "    print(type(age))\n",
    "    new_age = int(age) + 20\n",
    "    print(\"In 20 years you will be \" + str(new_age) + \" years old.\")\n",
    "```    "
   ]
  },
  {
   "cell_type": "code",
   "execution_count": null,
   "metadata": {},
   "outputs": [],
   "source": []
  },
  {
   "cell_type": "markdown",
   "metadata": {},
   "source": [
    "### Exercise 2\n",
    "\n",
    "```python\n",
    "    name = input(\"Enter your name: \")\n",
    "    print(name)\n",
    "    print(\"My name is \" + name + \". How are you?\")\n",
    "```"
   ]
  },
  {
   "cell_type": "code",
   "execution_count": null,
   "metadata": {},
   "outputs": [],
   "source": []
  },
  {
   "cell_type": "markdown",
   "metadata": {},
   "source": [
    "### Exercise 3\n",
    "\n",
    "```python\n",
    "my_number = 14\n",
    "your_number = input(\"What is your favorite number? \") \n",
    "print(my_number > your_number)\n",
    "```\n",
    "\n",
    "Exercise 3 has an error. Do you know what is causing that error? Use exercise 1 and 2 to help you. If you figure out how to fix it, type the correct code in another cell."
   ]
  },
  {
   "cell_type": "code",
   "execution_count": null,
   "metadata": {},
   "outputs": [],
   "source": []
  },
  {
   "cell_type": "markdown",
   "metadata": {},
   "source": [
    "# Research Like a Programmer\n",
    "\n",
    "Do some Googling to figure out how to handle the following situations.\n",
    "\n",
    "## Problem 1\n",
    "\n",
    "You want to know Python's rules and style guide for naming variables. Summarize the rules below. Include the link you used."
   ]
  },
  {
   "cell_type": "code",
   "execution_count": null,
   "metadata": {},
   "outputs": [],
   "source": []
  },
  {
   "cell_type": "markdown",
   "metadata": {},
   "source": [
    "## Problem 2\n",
    "\n",
    "You want to get input from a user but you want them to type the response on a the next line. How can you do this? Type code below that asks for the user's age and has them type their response on a new line."
   ]
  },
  {
   "cell_type": "code",
   "execution_count": null,
   "metadata": {},
   "outputs": [],
   "source": []
  },
  {
   "cell_type": "markdown",
   "metadata": {},
   "source": [
    "## Problem 3\n",
    "\n",
    "I want to assign a = 1, b = 2, c = 3, d = 4 and e = 5, but I don't want to take five lines of code to do that as shown below:\n",
    "\n",
    "```python\n",
    "a = 1\n",
    "b = 2\n",
    "c = 3\n",
    "d = 4\n",
    "e = 5\n",
    "```\n",
    "\n",
    "I want to do this in one line. How can I do this?"
   ]
  },
  {
   "cell_type": "code",
   "execution_count": null,
   "metadata": {},
   "outputs": [],
   "source": []
  },
  {
   "cell_type": "markdown",
   "metadata": {},
   "source": [
    "## Problem 4\n",
    "\n",
    "Python 2 has a different way of getting input. What command does Python 2 use?"
   ]
  },
  {
   "cell_type": "code",
   "execution_count": null,
   "metadata": {},
   "outputs": [],
   "source": []
  }
 ],
 "metadata": {
  "kernelspec": {
   "display_name": "Python 3",
   "language": "python",
   "name": "python3"
  },
  "language_info": {
   "codemirror_mode": {
    "name": "ipython",
    "version": 3
   },
   "file_extension": ".py",
   "mimetype": "text/x-python",
   "name": "python",
   "nbconvert_exporter": "python",
   "pygments_lexer": "ipython3",
   "version": "3.5.5"
  }
 },
 "nbformat": 4,
 "nbformat_minor": 2
}
