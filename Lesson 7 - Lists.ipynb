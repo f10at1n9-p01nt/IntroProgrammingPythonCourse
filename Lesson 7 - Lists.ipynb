{
 "cells": [
  {
   "attachments": {},
   "cell_type": "markdown",
   "metadata": {},
   "source": [
    "# Introduction\n",
    "\n",
    "Variables are useful for storing one piece of information, but what if you want to store a long list of information? One of the main ways we do that is with a list.\n",
    "\n",
    "## Lists\n",
    "\n",
    "Lists are a collection of different items such as strings, numbers and even other lists. To indicate a list in Python you use square brackets with each item separated by commas.\n",
    "\n",
    "```python\n",
    "my_list = [1,2,3]\n",
    "another_list = ['math', 'science', 'other']\n",
    "favorites = [\"blue\", 7, another_list]\n",
    "empty_list = []\n",
    "```\n",
    "\n",
    "Lists are quite versatile and there a lot of operations you can perform on a list. We will explore several of the main things you can do with lists in this lesson.\n",
    "\n",
    "\n",
    "## Directions for Exercises\n",
    "\n",
    "This lesson is a little different than previous ones, so **please read the directions carefully!**\n",
    "\n",
    "Try the code beneath each heading and see what sort of operations we can do on lists. Keep adding to the code as you go (in other words, after you run the code for \"Adding Things\", add the code for \"Getting Items from a List\", and then run it, then add the next part and run the code, etc.). Your code should keep getting longer.\n",
    "\n",
    "Then, at the end, summarize what you learned about lists."
   ]
  },
  {
   "attachments": {},
   "cell_type": "markdown",
   "metadata": {},
   "source": [
    "## Operations on Lists\n",
    "\n",
    "### Adding Things\n",
    "\n",
    "```python\n",
    "myClasses = ['math', 'science', 'English', 'history', 'language', 'Bible', 'Python']\n",
    "print(myClasses)\n",
    "myClasses.append('study hall')\n",
    "print(myClasses)\n",
    "```"
   ]
  },
  {
   "attachments": {},
   "cell_type": "markdown",
   "metadata": {},
   "source": [
    "### Getting Items from a List\n",
    "```python\n",
    "item_1 = myClasses[0]\n",
    "item_2 = myClasses[-2]\n",
    "print(item_1, item_2)\n",
    "```"
   ]
  },
  {
   "attachments": {},
   "cell_type": "markdown",
   "metadata": {},
   "source": [
    "### Slicing a List\n",
    "```python\n",
    "vowels = ['a', 'e', 'i', 'o', 'u']\n",
    "print(vowels[1:4])\n",
    "print(type(item_1))\n",
    "print(type(vowels[1:4]))\n",
    "```"
   ]
  },
  {
   "attachments": {},
   "cell_type": "markdown",
   "metadata": {},
   "source": [
    "### Modifying Items\n",
    "```python\n",
    "myClasses[2] = 'Read books'\n",
    "print(myClasses)\n",
    "```"
   ]
  },
  {
   "attachments": {},
   "cell_type": "markdown",
   "metadata": {},
   "source": [
    "### More Ways of Adding Items\n",
    "```python\n",
    "myClasses.extend(['PE', 'Art'])\n",
    "print(myClasses)\n",
    "myClasses.insert(2, 'Photography')\n",
    "print(myClasses)\n",
    "```"
   ]
  },
  {
   "attachments": {},
   "cell_type": "markdown",
   "metadata": {},
   "source": [
    "### Deleting from a List\n",
    "```python\n",
    "myClasses.remove('language')\n",
    "print(myClasses)\n",
    "del myClasses[3]\n",
    "print(myClasses)\n",
    "last_item = myClasses.pop()\n",
    "first_item = myClasses.pop(0)\n",
    "print(last_item + \" is the worst, but \" + first_item + \" is the best!\")\n",
    "print(myClasses)\n",
    "```"
   ]
  },
  {
   "attachments": {},
   "cell_type": "markdown",
   "metadata": {},
   "source": [
    "### Searching a List\n",
    "```python\n",
    "while True:\n",
    "\tif 'Bible' in myClasses:\n",
    "\t\tprint(\"Yeah!\")\n",
    "\t\tmyClasses.remove('Bible')\n",
    "\telse:\n",
    "\t\tprint(\"You should study the Bible. It's a good \n",
    "\t\tbook.\")\n",
    "\t\tbreak\n",
    "while 'math' not in myClasses:\n",
    "\tprint('You should take math.')\n",
    "\tmyClasses.insert(0, 'math')\n",
    "print(myClasses)\n",
    "```"
   ]
  },
  {
   "cell_type": "markdown",
   "metadata": {},
   "source": [
    "### Finding the Index in a List\n",
    "```python\n",
    "print(myClasses,index('Python'))\n",
    "```"
   ]
  },
  {
   "attachments": {},
   "cell_type": "markdown",
   "metadata": {},
   "source": [
    "### Looping Through a List\n",
    "```python\n",
    "for j in myClasses:\n",
    "\tif j[0] == 's':\n",
    "\t\tprint(\"This course begins with the letter 's'.\")\n",
    "\telse:\n",
    "print(j)\n",
    "```"
   ]
  },
  {
   "cell_type": "code",
   "execution_count": null,
   "metadata": {},
   "outputs": [],
   "source": []
  },
  {
   "attachments": {},
   "cell_type": "markdown",
   "metadata": {},
   "source": [
    "## Mutable vs. Immutable\n",
    "\n",
    "### Lists vs. Tuples\n",
    "\n",
    "Lists are mutable, which means they can change. When we append or remove items from a list we are actually changing the list. If you want a list that is immutable, something that cannot be changed, you can use a **tuple**.\n",
    "```python\n",
    "my_tuple = ('red', 'green', 'blue')\n",
    "```\n",
    "Notice that tuples use ( ) instead of square brackets and because they are immutable, you can't append or remove items from that tuple."
   ]
  },
  {
   "attachments": {},
   "cell_type": "markdown",
   "metadata": {},
   "source": [
    "## More Operations on Lists\n",
    "\n",
    "There are many more things you can do to a list, such as find the length, sort and count items. [Check out the documentation here](https://docs.python.org/2/tutorial/datastructures.html) to see them."
   ]
  },
  {
   "cell_type": "code",
   "execution_count": null,
   "metadata": {},
   "outputs": [],
   "source": []
  }
 ],
 "metadata": {
  "kernelspec": {
   "display_name": "Python 3",
   "language": "python",
   "name": "python3"
  },
  "language_info": {
   "codemirror_mode": {
    "name": "ipython",
    "version": 3
   },
   "file_extension": ".py",
   "mimetype": "text/x-python",
   "name": "python",
   "nbconvert_exporter": "python",
   "pygments_lexer": "ipython3",
   "version": "3.6.5"
  }
 },
 "nbformat": 4,
 "nbformat_minor": 2
}
